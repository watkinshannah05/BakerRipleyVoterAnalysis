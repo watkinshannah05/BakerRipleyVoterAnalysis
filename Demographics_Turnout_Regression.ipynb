{
  "nbformat": 4,
  "nbformat_minor": 0,
  "metadata": {
    "colab": {
      "provenance": []
    },
    "kernelspec": {
      "name": "python3",
      "display_name": "Python 3"
    },
    "language_info": {
      "name": "python"
    }
  },
  "cells": [
    {
      "cell_type": "code",
      "execution_count": 151,
      "metadata": {
        "id": "zTng1PGlT1mS"
      },
      "outputs": [],
      "source": [
        "import numpy as np\n",
        "import pandas as pd\n",
        "import matplotlib.pyplot as plt\n",
        "import sklearn"
      ]
    },
    {
      "cell_type": "code",
      "source": [
        "demog= pd.read_csv('/content/drive/Shareddrives/BakerRipley 2023 Datathon/demog.csv')\n",
        "demog"
      ],
      "metadata": {
        "colab": {
          "base_uri": "https://localhost:8080/",
          "height": 467
        },
        "id": "TRJxvJOoUHOt",
        "outputId": "c285a564-d3d0-4873-fb60-35117425ef2b"
      },
      "execution_count": 136,
      "outputs": [
        {
          "output_type": "execute_result",
          "data": {
            "text/plain": [
              "      Unnamed: 0     VTD  Registered People  Voting People  Percentage  \\\n",
              "0              0   126.0               5962           3464   58.101308   \n",
              "1              1   804.0               5767           2554   44.286457   \n",
              "2              2   447.0               5754           3104   53.945082   \n",
              "3              3   336.0               5616           2463   43.856838   \n",
              "4              4   352.0               5368           2473   46.069300   \n",
              "...          ...     ...                ...            ...         ...   \n",
              "1092        1092  1108.0                 11              3   27.272727   \n",
              "1093        1093   918.0                  7              4   57.142857   \n",
              "1094        1094  1057.0                  6              1   16.666667   \n",
              "1095        1095   808.0                  5              3   60.000000   \n",
              "1096        1096  1099.0                  4              3   75.000000   \n",
              "\n",
              "       index  Total  Anglo Non-Anglo  Asian  Black   Hisp    B+H  %Anglo  \\\n",
              "0      255.0  4,656  3,239     1,417    141    158  1,001  1,155    69.6   \n",
              "1     1613.0  6,764  2,093     4,671  1,068  1,102  2,439  3,508    30.9   \n",
              "2      897.0  4,284  1,973     2,311    222    972  1,075  2,001    46.1   \n",
              "3      675.0  7,213    605     6,608    727  4,147  1,769  5,823     8.4   \n",
              "4      707.0  6,590  3,434     3,156    242    385  2,412  2,759    52.1   \n",
              "...      ...    ...    ...       ...    ...    ...    ...    ...     ...   \n",
              "1092  2221.0    464     51       413      8    303    103    394    11.0   \n",
              "1093  1841.0     38     14        24      0     21      4     24    36.8   \n",
              "1094  2119.0     18      0        18      0      2     16     18     0.0   \n",
              "1095  1621.0     11      5         6      0      0      3      3    45.5   \n",
              "1096  2203.0     12      2        10      0      1      9     10    16.7   \n",
              "\n",
              "      %Non-Anglo  %Asian  %Black  %Hispanic   %B+H  \n",
              "0           30.4     3.0     3.4       21.5   24.8  \n",
              "1           69.1    15.8    16.3       36.1   51.9  \n",
              "2           53.9     5.2    22.7       25.1   46.7  \n",
              "3           91.6    10.1    57.5       24.5   80.7  \n",
              "4           47.9     3.7     5.8       36.6   41.9  \n",
              "...          ...     ...     ...        ...    ...  \n",
              "1092        89.0     1.7    65.3       22.2   84.9  \n",
              "1093        63.2     0.0    55.3       10.5   63.2  \n",
              "1094       100.0     0.0    11.1       88.9  100.0  \n",
              "1095        54.5     0.0     0.0       27.3   27.3  \n",
              "1096        83.3     0.0     8.3       75.0   83.3  \n",
              "\n",
              "[1097 rows x 19 columns]"
            ],
            "text/html": [
              "\n",
              "  <div id=\"df-2e43f4dc-a9b4-43aa-bd98-0909389e749b\">\n",
              "    <div class=\"colab-df-container\">\n",
              "      <div>\n",
              "<style scoped>\n",
              "    .dataframe tbody tr th:only-of-type {\n",
              "        vertical-align: middle;\n",
              "    }\n",
              "\n",
              "    .dataframe tbody tr th {\n",
              "        vertical-align: top;\n",
              "    }\n",
              "\n",
              "    .dataframe thead th {\n",
              "        text-align: right;\n",
              "    }\n",
              "</style>\n",
              "<table border=\"1\" class=\"dataframe\">\n",
              "  <thead>\n",
              "    <tr style=\"text-align: right;\">\n",
              "      <th></th>\n",
              "      <th>Unnamed: 0</th>\n",
              "      <th>VTD</th>\n",
              "      <th>Registered People</th>\n",
              "      <th>Voting People</th>\n",
              "      <th>Percentage</th>\n",
              "      <th>index</th>\n",
              "      <th>Total</th>\n",
              "      <th>Anglo</th>\n",
              "      <th>Non-Anglo</th>\n",
              "      <th>Asian</th>\n",
              "      <th>Black</th>\n",
              "      <th>Hisp</th>\n",
              "      <th>B+H</th>\n",
              "      <th>%Anglo</th>\n",
              "      <th>%Non-Anglo</th>\n",
              "      <th>%Asian</th>\n",
              "      <th>%Black</th>\n",
              "      <th>%Hispanic</th>\n",
              "      <th>%B+H</th>\n",
              "    </tr>\n",
              "  </thead>\n",
              "  <tbody>\n",
              "    <tr>\n",
              "      <th>0</th>\n",
              "      <td>0</td>\n",
              "      <td>126.0</td>\n",
              "      <td>5962</td>\n",
              "      <td>3464</td>\n",
              "      <td>58.101308</td>\n",
              "      <td>255.0</td>\n",
              "      <td>4,656</td>\n",
              "      <td>3,239</td>\n",
              "      <td>1,417</td>\n",
              "      <td>141</td>\n",
              "      <td>158</td>\n",
              "      <td>1,001</td>\n",
              "      <td>1,155</td>\n",
              "      <td>69.6</td>\n",
              "      <td>30.4</td>\n",
              "      <td>3.0</td>\n",
              "      <td>3.4</td>\n",
              "      <td>21.5</td>\n",
              "      <td>24.8</td>\n",
              "    </tr>\n",
              "    <tr>\n",
              "      <th>1</th>\n",
              "      <td>1</td>\n",
              "      <td>804.0</td>\n",
              "      <td>5767</td>\n",
              "      <td>2554</td>\n",
              "      <td>44.286457</td>\n",
              "      <td>1613.0</td>\n",
              "      <td>6,764</td>\n",
              "      <td>2,093</td>\n",
              "      <td>4,671</td>\n",
              "      <td>1,068</td>\n",
              "      <td>1,102</td>\n",
              "      <td>2,439</td>\n",
              "      <td>3,508</td>\n",
              "      <td>30.9</td>\n",
              "      <td>69.1</td>\n",
              "      <td>15.8</td>\n",
              "      <td>16.3</td>\n",
              "      <td>36.1</td>\n",
              "      <td>51.9</td>\n",
              "    </tr>\n",
              "    <tr>\n",
              "      <th>2</th>\n",
              "      <td>2</td>\n",
              "      <td>447.0</td>\n",
              "      <td>5754</td>\n",
              "      <td>3104</td>\n",
              "      <td>53.945082</td>\n",
              "      <td>897.0</td>\n",
              "      <td>4,284</td>\n",
              "      <td>1,973</td>\n",
              "      <td>2,311</td>\n",
              "      <td>222</td>\n",
              "      <td>972</td>\n",
              "      <td>1,075</td>\n",
              "      <td>2,001</td>\n",
              "      <td>46.1</td>\n",
              "      <td>53.9</td>\n",
              "      <td>5.2</td>\n",
              "      <td>22.7</td>\n",
              "      <td>25.1</td>\n",
              "      <td>46.7</td>\n",
              "    </tr>\n",
              "    <tr>\n",
              "      <th>3</th>\n",
              "      <td>3</td>\n",
              "      <td>336.0</td>\n",
              "      <td>5616</td>\n",
              "      <td>2463</td>\n",
              "      <td>43.856838</td>\n",
              "      <td>675.0</td>\n",
              "      <td>7,213</td>\n",
              "      <td>605</td>\n",
              "      <td>6,608</td>\n",
              "      <td>727</td>\n",
              "      <td>4,147</td>\n",
              "      <td>1,769</td>\n",
              "      <td>5,823</td>\n",
              "      <td>8.4</td>\n",
              "      <td>91.6</td>\n",
              "      <td>10.1</td>\n",
              "      <td>57.5</td>\n",
              "      <td>24.5</td>\n",
              "      <td>80.7</td>\n",
              "    </tr>\n",
              "    <tr>\n",
              "      <th>4</th>\n",
              "      <td>4</td>\n",
              "      <td>352.0</td>\n",
              "      <td>5368</td>\n",
              "      <td>2473</td>\n",
              "      <td>46.069300</td>\n",
              "      <td>707.0</td>\n",
              "      <td>6,590</td>\n",
              "      <td>3,434</td>\n",
              "      <td>3,156</td>\n",
              "      <td>242</td>\n",
              "      <td>385</td>\n",
              "      <td>2,412</td>\n",
              "      <td>2,759</td>\n",
              "      <td>52.1</td>\n",
              "      <td>47.9</td>\n",
              "      <td>3.7</td>\n",
              "      <td>5.8</td>\n",
              "      <td>36.6</td>\n",
              "      <td>41.9</td>\n",
              "    </tr>\n",
              "    <tr>\n",
              "      <th>...</th>\n",
              "      <td>...</td>\n",
              "      <td>...</td>\n",
              "      <td>...</td>\n",
              "      <td>...</td>\n",
              "      <td>...</td>\n",
              "      <td>...</td>\n",
              "      <td>...</td>\n",
              "      <td>...</td>\n",
              "      <td>...</td>\n",
              "      <td>...</td>\n",
              "      <td>...</td>\n",
              "      <td>...</td>\n",
              "      <td>...</td>\n",
              "      <td>...</td>\n",
              "      <td>...</td>\n",
              "      <td>...</td>\n",
              "      <td>...</td>\n",
              "      <td>...</td>\n",
              "      <td>...</td>\n",
              "    </tr>\n",
              "    <tr>\n",
              "      <th>1092</th>\n",
              "      <td>1092</td>\n",
              "      <td>1108.0</td>\n",
              "      <td>11</td>\n",
              "      <td>3</td>\n",
              "      <td>27.272727</td>\n",
              "      <td>2221.0</td>\n",
              "      <td>464</td>\n",
              "      <td>51</td>\n",
              "      <td>413</td>\n",
              "      <td>8</td>\n",
              "      <td>303</td>\n",
              "      <td>103</td>\n",
              "      <td>394</td>\n",
              "      <td>11.0</td>\n",
              "      <td>89.0</td>\n",
              "      <td>1.7</td>\n",
              "      <td>65.3</td>\n",
              "      <td>22.2</td>\n",
              "      <td>84.9</td>\n",
              "    </tr>\n",
              "    <tr>\n",
              "      <th>1093</th>\n",
              "      <td>1093</td>\n",
              "      <td>918.0</td>\n",
              "      <td>7</td>\n",
              "      <td>4</td>\n",
              "      <td>57.142857</td>\n",
              "      <td>1841.0</td>\n",
              "      <td>38</td>\n",
              "      <td>14</td>\n",
              "      <td>24</td>\n",
              "      <td>0</td>\n",
              "      <td>21</td>\n",
              "      <td>4</td>\n",
              "      <td>24</td>\n",
              "      <td>36.8</td>\n",
              "      <td>63.2</td>\n",
              "      <td>0.0</td>\n",
              "      <td>55.3</td>\n",
              "      <td>10.5</td>\n",
              "      <td>63.2</td>\n",
              "    </tr>\n",
              "    <tr>\n",
              "      <th>1094</th>\n",
              "      <td>1094</td>\n",
              "      <td>1057.0</td>\n",
              "      <td>6</td>\n",
              "      <td>1</td>\n",
              "      <td>16.666667</td>\n",
              "      <td>2119.0</td>\n",
              "      <td>18</td>\n",
              "      <td>0</td>\n",
              "      <td>18</td>\n",
              "      <td>0</td>\n",
              "      <td>2</td>\n",
              "      <td>16</td>\n",
              "      <td>18</td>\n",
              "      <td>0.0</td>\n",
              "      <td>100.0</td>\n",
              "      <td>0.0</td>\n",
              "      <td>11.1</td>\n",
              "      <td>88.9</td>\n",
              "      <td>100.0</td>\n",
              "    </tr>\n",
              "    <tr>\n",
              "      <th>1095</th>\n",
              "      <td>1095</td>\n",
              "      <td>808.0</td>\n",
              "      <td>5</td>\n",
              "      <td>3</td>\n",
              "      <td>60.000000</td>\n",
              "      <td>1621.0</td>\n",
              "      <td>11</td>\n",
              "      <td>5</td>\n",
              "      <td>6</td>\n",
              "      <td>0</td>\n",
              "      <td>0</td>\n",
              "      <td>3</td>\n",
              "      <td>3</td>\n",
              "      <td>45.5</td>\n",
              "      <td>54.5</td>\n",
              "      <td>0.0</td>\n",
              "      <td>0.0</td>\n",
              "      <td>27.3</td>\n",
              "      <td>27.3</td>\n",
              "    </tr>\n",
              "    <tr>\n",
              "      <th>1096</th>\n",
              "      <td>1096</td>\n",
              "      <td>1099.0</td>\n",
              "      <td>4</td>\n",
              "      <td>3</td>\n",
              "      <td>75.000000</td>\n",
              "      <td>2203.0</td>\n",
              "      <td>12</td>\n",
              "      <td>2</td>\n",
              "      <td>10</td>\n",
              "      <td>0</td>\n",
              "      <td>1</td>\n",
              "      <td>9</td>\n",
              "      <td>10</td>\n",
              "      <td>16.7</td>\n",
              "      <td>83.3</td>\n",
              "      <td>0.0</td>\n",
              "      <td>8.3</td>\n",
              "      <td>75.0</td>\n",
              "      <td>83.3</td>\n",
              "    </tr>\n",
              "  </tbody>\n",
              "</table>\n",
              "<p>1097 rows × 19 columns</p>\n",
              "</div>\n",
              "      <button class=\"colab-df-convert\" onclick=\"convertToInteractive('df-2e43f4dc-a9b4-43aa-bd98-0909389e749b')\"\n",
              "              title=\"Convert this dataframe to an interactive table.\"\n",
              "              style=\"display:none;\">\n",
              "        \n",
              "  <svg xmlns=\"http://www.w3.org/2000/svg\" height=\"24px\"viewBox=\"0 0 24 24\"\n",
              "       width=\"24px\">\n",
              "    <path d=\"M0 0h24v24H0V0z\" fill=\"none\"/>\n",
              "    <path d=\"M18.56 5.44l.94 2.06.94-2.06 2.06-.94-2.06-.94-.94-2.06-.94 2.06-2.06.94zm-11 1L8.5 8.5l.94-2.06 2.06-.94-2.06-.94L8.5 2.5l-.94 2.06-2.06.94zm10 10l.94 2.06.94-2.06 2.06-.94-2.06-.94-.94-2.06-.94 2.06-2.06.94z\"/><path d=\"M17.41 7.96l-1.37-1.37c-.4-.4-.92-.59-1.43-.59-.52 0-1.04.2-1.43.59L10.3 9.45l-7.72 7.72c-.78.78-.78 2.05 0 2.83L4 21.41c.39.39.9.59 1.41.59.51 0 1.02-.2 1.41-.59l7.78-7.78 2.81-2.81c.8-.78.8-2.07 0-2.86zM5.41 20L4 18.59l7.72-7.72 1.47 1.35L5.41 20z\"/>\n",
              "  </svg>\n",
              "      </button>\n",
              "      \n",
              "  <style>\n",
              "    .colab-df-container {\n",
              "      display:flex;\n",
              "      flex-wrap:wrap;\n",
              "      gap: 12px;\n",
              "    }\n",
              "\n",
              "    .colab-df-convert {\n",
              "      background-color: #E8F0FE;\n",
              "      border: none;\n",
              "      border-radius: 50%;\n",
              "      cursor: pointer;\n",
              "      display: none;\n",
              "      fill: #1967D2;\n",
              "      height: 32px;\n",
              "      padding: 0 0 0 0;\n",
              "      width: 32px;\n",
              "    }\n",
              "\n",
              "    .colab-df-convert:hover {\n",
              "      background-color: #E2EBFA;\n",
              "      box-shadow: 0px 1px 2px rgba(60, 64, 67, 0.3), 0px 1px 3px 1px rgba(60, 64, 67, 0.15);\n",
              "      fill: #174EA6;\n",
              "    }\n",
              "\n",
              "    [theme=dark] .colab-df-convert {\n",
              "      background-color: #3B4455;\n",
              "      fill: #D2E3FC;\n",
              "    }\n",
              "\n",
              "    [theme=dark] .colab-df-convert:hover {\n",
              "      background-color: #434B5C;\n",
              "      box-shadow: 0px 1px 3px 1px rgba(0, 0, 0, 0.15);\n",
              "      filter: drop-shadow(0px 1px 2px rgba(0, 0, 0, 0.3));\n",
              "      fill: #FFFFFF;\n",
              "    }\n",
              "  </style>\n",
              "\n",
              "      <script>\n",
              "        const buttonEl =\n",
              "          document.querySelector('#df-2e43f4dc-a9b4-43aa-bd98-0909389e749b button.colab-df-convert');\n",
              "        buttonEl.style.display =\n",
              "          google.colab.kernel.accessAllowed ? 'block' : 'none';\n",
              "\n",
              "        async function convertToInteractive(key) {\n",
              "          const element = document.querySelector('#df-2e43f4dc-a9b4-43aa-bd98-0909389e749b');\n",
              "          const dataTable =\n",
              "            await google.colab.kernel.invokeFunction('convertToInteractive',\n",
              "                                                     [key], {});\n",
              "          if (!dataTable) return;\n",
              "\n",
              "          const docLinkHtml = 'Like what you see? Visit the ' +\n",
              "            '<a target=\"_blank\" href=https://colab.research.google.com/notebooks/data_table.ipynb>data table notebook</a>'\n",
              "            + ' to learn more about interactive tables.';\n",
              "          element.innerHTML = '';\n",
              "          dataTable['output_type'] = 'display_data';\n",
              "          await google.colab.output.renderOutput(dataTable, element);\n",
              "          const docLink = document.createElement('div');\n",
              "          docLink.innerHTML = docLinkHtml;\n",
              "          element.appendChild(docLink);\n",
              "        }\n",
              "      </script>\n",
              "    </div>\n",
              "  </div>\n",
              "  "
            ]
          },
          "metadata": {},
          "execution_count": 136
        }
      ]
    },
    {
      "cell_type": "code",
      "source": [
        "from sklearn.model_selection import train_test_split\n",
        "features=[\"%Anglo\", \"%Non-Anglo\", \"%Asian\", \"%Black\", \"%Hispanic\"]\n",
        "label=[\"Percentage\"]"
      ],
      "metadata": {
        "id": "F2N_RrbrVgb_"
      },
      "execution_count": 137,
      "outputs": []
    },
    {
      "cell_type": "code",
      "source": [
        "X=demog[features]\n",
        "Y=demog[label]"
      ],
      "metadata": {
        "id": "cq341l36Xwaz"
      },
      "execution_count": 138,
      "outputs": []
    },
    {
      "cell_type": "code",
      "source": [
        "from sklearn.model_selection import train_test_split\n",
        "X_train, X_test, Y_train, Y_test = train_test_split(X, Y, \n",
        "                                                    test_size=0.3, random_state=101)\n",
        "X_train, X_test, Y_train, Y_test"
      ],
      "metadata": {
        "colab": {
          "base_uri": "https://localhost:8080/"
        },
        "id": "DvcDmxSyXxWq",
        "outputId": "3752f7eb-dd9b-4ea5-8f3b-e70a8a07f2a6"
      },
      "execution_count": 139,
      "outputs": [
        {
          "output_type": "execute_result",
          "data": {
            "text/plain": [
              "(      %Anglo  %Non-Anglo  %Asian  %Black  %Hispanic\n",
              " 1086    69.2        30.8    15.4     2.6        5.1\n",
              " 463      7.6        92.4     1.4     6.1       84.9\n",
              " 228     31.6        68.4    10.6    45.0       13.3\n",
              " 510      1.7        98.3     0.6    73.7       24.7\n",
              " 1061     3.2        96.8     0.4    35.7       57.9\n",
              " ...      ...         ...     ...     ...        ...\n",
              " 575      4.0        96.0     8.6    36.8       50.5\n",
              " 973      1.4        98.6     0.1    68.7       30.3\n",
              " 75      58.8        41.2    15.3     8.8       15.2\n",
              " 599     49.3        50.7    15.0     3.0       31.9\n",
              " 863      6.8        93.2     2.3    34.3       56.2\n",
              " \n",
              " [767 rows x 5 columns],       %Anglo  %Non-Anglo  %Asian  %Black  %Hispanic\n",
              " 127     50.0        50.0    12.2    18.6       17.9\n",
              " 318      5.5        94.5     2.6    35.5       57.2\n",
              " 1038     3.6        96.4     0.2     2.9       93.2\n",
              " 852      6.1        93.9     0.5     1.5       91.6\n",
              " 99      36.3        63.7    21.3     8.9       32.7\n",
              " ...      ...         ...     ...     ...        ...\n",
              " 483     63.0        37.0     9.3     8.1       18.5\n",
              " 464     10.7        89.3     2.7     6.8       79.3\n",
              " 984     11.2        88.8     2.5    19.0       68.2\n",
              " 198      1.1        98.9     0.5    85.4       13.6\n",
              " 174     11.5        88.5     3.6    41.2       43.8\n",
              " \n",
              " [330 rows x 5 columns],       Percentage\n",
              " 1086   66.666667\n",
              " 463    26.671821\n",
              " 228    48.733624\n",
              " 510    32.023169\n",
              " 1061   31.578947\n",
              " ...          ...\n",
              " 575    36.834925\n",
              " 973    33.211009\n",
              " 75     54.866861\n",
              " 599    57.332072\n",
              " 863    23.556797\n",
              " \n",
              " [767 rows x 1 columns],       Percentage\n",
              " 127    51.695761\n",
              " 318    32.224397\n",
              " 1038   39.080460\n",
              " 852    18.701299\n",
              " 99     49.267486\n",
              " ...          ...\n",
              " 483    54.901186\n",
              " 464    30.626450\n",
              " 984    16.735537\n",
              " 198    37.402453\n",
              " 174    36.810811\n",
              " \n",
              " [330 rows x 1 columns])"
            ]
          },
          "metadata": {},
          "execution_count": 139
        }
      ]
    },
    {
      "cell_type": "code",
      "source": [
        "X_train= X_train.fillna(0)\n",
        "X_train.shape"
      ],
      "metadata": {
        "colab": {
          "base_uri": "https://localhost:8080/"
        },
        "id": "_TzDp8YcfeMV",
        "outputId": "60971dc2-fb14-4571-aabd-be0a19ec80af"
      },
      "execution_count": 141,
      "outputs": [
        {
          "output_type": "execute_result",
          "data": {
            "text/plain": [
              "(767, 5)"
            ]
          },
          "metadata": {},
          "execution_count": 141
        }
      ]
    },
    {
      "cell_type": "code",
      "source": [
        "Y_train=Y_train.fillna(0)\n",
        "Y_train.shape"
      ],
      "metadata": {
        "colab": {
          "base_uri": "https://localhost:8080/"
        },
        "id": "bs4xvaWOvDU6",
        "outputId": "1e308872-6ed4-4871-870e-e0653047bdad"
      },
      "execution_count": 142,
      "outputs": [
        {
          "output_type": "execute_result",
          "data": {
            "text/plain": [
              "(767, 1)"
            ]
          },
          "metadata": {},
          "execution_count": 142
        }
      ]
    },
    {
      "cell_type": "code",
      "source": [
        "from sklearn.preprocessing import StandardScaler\n",
        "scaler = StandardScaler()"
      ],
      "metadata": {
        "id": "hjJ9QpV6YIjo"
      },
      "execution_count": 9,
      "outputs": []
    },
    {
      "cell_type": "code",
      "source": [
        "scaler.fit(X_train)"
      ],
      "metadata": {
        "colab": {
          "base_uri": "https://localhost:8080/"
        },
        "id": "hycXg5HOYRs2",
        "outputId": "e1615d15-c73c-467f-80f1-3888457c78b8"
      },
      "execution_count": 143,
      "outputs": [
        {
          "output_type": "execute_result",
          "data": {
            "text/plain": [
              "StandardScaler()"
            ]
          },
          "metadata": {},
          "execution_count": 143
        }
      ]
    },
    {
      "cell_type": "code",
      "source": [
        "X_train = scaler.transform(X_train)\n",
        "X_test = scaler.transform(X_test)"
      ],
      "metadata": {
        "id": "aduUDPaGYWig"
      },
      "execution_count": 144,
      "outputs": []
    },
    {
      "cell_type": "code",
      "source": [
        "from sklearn.linear_model import LinearRegression\n",
        "\n",
        "linear_model = LinearRegression()"
      ],
      "metadata": {
        "id": "275Auna6YbqG"
      },
      "execution_count": 145,
      "outputs": []
    },
    {
      "cell_type": "code",
      "source": [
        "Y_train.shape"
      ],
      "metadata": {
        "colab": {
          "base_uri": "https://localhost:8080/"
        },
        "id": "QovfspagcFi0",
        "outputId": "45009ee4-22f8-4c40-9aeb-47d7858ed5ac"
      },
      "execution_count": 146,
      "outputs": [
        {
          "output_type": "execute_result",
          "data": {
            "text/plain": [
              "(767, 1)"
            ]
          },
          "metadata": {},
          "execution_count": 146
        }
      ]
    },
    {
      "cell_type": "code",
      "source": [
        "linear_model.fit(X_train, Y_train)"
      ],
      "metadata": {
        "colab": {
          "base_uri": "https://localhost:8080/"
        },
        "id": "QsAtlHVbYgyt",
        "outputId": "5307b281-d695-4e88-a26e-4006ad3a5dfc"
      },
      "execution_count": 147,
      "outputs": [
        {
          "output_type": "execute_result",
          "data": {
            "text/plain": [
              "LinearRegression()"
            ]
          },
          "metadata": {},
          "execution_count": 147
        }
      ]
    },
    {
      "cell_type": "code",
      "source": [
        "linear_model.coef_"
      ],
      "metadata": {
        "colab": {
          "base_uri": "https://localhost:8080/"
        },
        "id": "bcu6IfP2wjc1",
        "outputId": "c59ec9d9-1b0a-451d-d148-c28e75a22e59"
      },
      "execution_count": 148,
      "outputs": [
        {
          "output_type": "execute_result",
          "data": {
            "text/plain": [
              "array([[ 8.31854931,  4.7422543 , -0.52127864, -4.07695662, -8.1439995 ]])"
            ]
          },
          "metadata": {},
          "execution_count": 148
        }
      ]
    },
    {
      "cell_type": "code",
      "source": [
        "pd.DataFrame(linear_model.coef_[0],X.columns,columns=['Coeff'])"
      ],
      "metadata": {
        "colab": {
          "base_uri": "https://localhost:8080/",
          "height": 206
        },
        "id": "K8e_U85ZyuuS",
        "outputId": "c534180d-35bc-4370-bd96-7a34c42dfb5b"
      },
      "execution_count": 149,
      "outputs": [
        {
          "output_type": "execute_result",
          "data": {
            "text/plain": [
              "               Coeff\n",
              "%Anglo      8.318549\n",
              "%Non-Anglo  4.742254\n",
              "%Asian     -0.521279\n",
              "%Black     -4.076957\n",
              "%Hispanic  -8.143999"
            ],
            "text/html": [
              "\n",
              "  <div id=\"df-675b3f58-208b-4d7d-9341-3602d789d5bb\">\n",
              "    <div class=\"colab-df-container\">\n",
              "      <div>\n",
              "<style scoped>\n",
              "    .dataframe tbody tr th:only-of-type {\n",
              "        vertical-align: middle;\n",
              "    }\n",
              "\n",
              "    .dataframe tbody tr th {\n",
              "        vertical-align: top;\n",
              "    }\n",
              "\n",
              "    .dataframe thead th {\n",
              "        text-align: right;\n",
              "    }\n",
              "</style>\n",
              "<table border=\"1\" class=\"dataframe\">\n",
              "  <thead>\n",
              "    <tr style=\"text-align: right;\">\n",
              "      <th></th>\n",
              "      <th>Coeff</th>\n",
              "    </tr>\n",
              "  </thead>\n",
              "  <tbody>\n",
              "    <tr>\n",
              "      <th>%Anglo</th>\n",
              "      <td>8.318549</td>\n",
              "    </tr>\n",
              "    <tr>\n",
              "      <th>%Non-Anglo</th>\n",
              "      <td>4.742254</td>\n",
              "    </tr>\n",
              "    <tr>\n",
              "      <th>%Asian</th>\n",
              "      <td>-0.521279</td>\n",
              "    </tr>\n",
              "    <tr>\n",
              "      <th>%Black</th>\n",
              "      <td>-4.076957</td>\n",
              "    </tr>\n",
              "    <tr>\n",
              "      <th>%Hispanic</th>\n",
              "      <td>-8.143999</td>\n",
              "    </tr>\n",
              "  </tbody>\n",
              "</table>\n",
              "</div>\n",
              "      <button class=\"colab-df-convert\" onclick=\"convertToInteractive('df-675b3f58-208b-4d7d-9341-3602d789d5bb')\"\n",
              "              title=\"Convert this dataframe to an interactive table.\"\n",
              "              style=\"display:none;\">\n",
              "        \n",
              "  <svg xmlns=\"http://www.w3.org/2000/svg\" height=\"24px\"viewBox=\"0 0 24 24\"\n",
              "       width=\"24px\">\n",
              "    <path d=\"M0 0h24v24H0V0z\" fill=\"none\"/>\n",
              "    <path d=\"M18.56 5.44l.94 2.06.94-2.06 2.06-.94-2.06-.94-.94-2.06-.94 2.06-2.06.94zm-11 1L8.5 8.5l.94-2.06 2.06-.94-2.06-.94L8.5 2.5l-.94 2.06-2.06.94zm10 10l.94 2.06.94-2.06 2.06-.94-2.06-.94-.94-2.06-.94 2.06-2.06.94z\"/><path d=\"M17.41 7.96l-1.37-1.37c-.4-.4-.92-.59-1.43-.59-.52 0-1.04.2-1.43.59L10.3 9.45l-7.72 7.72c-.78.78-.78 2.05 0 2.83L4 21.41c.39.39.9.59 1.41.59.51 0 1.02-.2 1.41-.59l7.78-7.78 2.81-2.81c.8-.78.8-2.07 0-2.86zM5.41 20L4 18.59l7.72-7.72 1.47 1.35L5.41 20z\"/>\n",
              "  </svg>\n",
              "      </button>\n",
              "      \n",
              "  <style>\n",
              "    .colab-df-container {\n",
              "      display:flex;\n",
              "      flex-wrap:wrap;\n",
              "      gap: 12px;\n",
              "    }\n",
              "\n",
              "    .colab-df-convert {\n",
              "      background-color: #E8F0FE;\n",
              "      border: none;\n",
              "      border-radius: 50%;\n",
              "      cursor: pointer;\n",
              "      display: none;\n",
              "      fill: #1967D2;\n",
              "      height: 32px;\n",
              "      padding: 0 0 0 0;\n",
              "      width: 32px;\n",
              "    }\n",
              "\n",
              "    .colab-df-convert:hover {\n",
              "      background-color: #E2EBFA;\n",
              "      box-shadow: 0px 1px 2px rgba(60, 64, 67, 0.3), 0px 1px 3px 1px rgba(60, 64, 67, 0.15);\n",
              "      fill: #174EA6;\n",
              "    }\n",
              "\n",
              "    [theme=dark] .colab-df-convert {\n",
              "      background-color: #3B4455;\n",
              "      fill: #D2E3FC;\n",
              "    }\n",
              "\n",
              "    [theme=dark] .colab-df-convert:hover {\n",
              "      background-color: #434B5C;\n",
              "      box-shadow: 0px 1px 3px 1px rgba(0, 0, 0, 0.15);\n",
              "      filter: drop-shadow(0px 1px 2px rgba(0, 0, 0, 0.3));\n",
              "      fill: #FFFFFF;\n",
              "    }\n",
              "  </style>\n",
              "\n",
              "      <script>\n",
              "        const buttonEl =\n",
              "          document.querySelector('#df-675b3f58-208b-4d7d-9341-3602d789d5bb button.colab-df-convert');\n",
              "        buttonEl.style.display =\n",
              "          google.colab.kernel.accessAllowed ? 'block' : 'none';\n",
              "\n",
              "        async function convertToInteractive(key) {\n",
              "          const element = document.querySelector('#df-675b3f58-208b-4d7d-9341-3602d789d5bb');\n",
              "          const dataTable =\n",
              "            await google.colab.kernel.invokeFunction('convertToInteractive',\n",
              "                                                     [key], {});\n",
              "          if (!dataTable) return;\n",
              "\n",
              "          const docLinkHtml = 'Like what you see? Visit the ' +\n",
              "            '<a target=\"_blank\" href=https://colab.research.google.com/notebooks/data_table.ipynb>data table notebook</a>'\n",
              "            + ' to learn more about interactive tables.';\n",
              "          element.innerHTML = '';\n",
              "          dataTable['output_type'] = 'display_data';\n",
              "          await google.colab.output.renderOutput(dataTable, element);\n",
              "          const docLink = document.createElement('div');\n",
              "          docLink.innerHTML = docLinkHtml;\n",
              "          element.appendChild(docLink);\n",
              "        }\n",
              "      </script>\n",
              "    </div>\n",
              "  </div>\n",
              "  "
            ]
          },
          "metadata": {},
          "execution_count": 149
        }
      ]
    },
    {
      "cell_type": "code",
      "source": [
        "cols = X.columns\n",
        "plt.bar(cols, linear_model.coef_[0], color=['blue', 'orange', 'green', 'red', 'purple'])\n",
        "plt.xticks(rotation = 90)"
      ],
      "metadata": {
        "colab": {
          "base_uri": "https://localhost:8080/",
          "height": 333
        },
        "id": "ErJ7DmbU0vWR",
        "outputId": "22268201-c913-49b9-f70f-3af5e4a7d34b"
      },
      "execution_count": 163,
      "outputs": [
        {
          "output_type": "execute_result",
          "data": {
            "text/plain": [
              "([0, 1, 2, 3, 4], <a list of 5 Text major ticklabel objects>)"
            ]
          },
          "metadata": {},
          "execution_count": 163
        },
        {
          "output_type": "display_data",
          "data": {
            "text/plain": [
              "<Figure size 432x288 with 1 Axes>"
            ],
            "image/png": "[encoded data removed]"
          },
          "metadata": {
            "needs_background": "light"
          }
        }
      ]
    }
  ]
}