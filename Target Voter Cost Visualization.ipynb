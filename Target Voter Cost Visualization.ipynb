{
 "cells": [
  {
   "cell_type": "code",
   "execution_count": 6,
   "id": "50ee6942",
   "metadata": {},
   "outputs": [],
   "source": [
    "import pandas as pd\n",
    "import matplotlib.pyplot as plt\n",
    "from pywaffle import Waffle"
   ]
  },
  {
   "cell_type": "code",
   "execution_count": 2,
   "id": "47e8d6b2",
   "metadata": {},
   "outputs": [],
   "source": [
    "attempted_text = pd.read_csv('/Users/data30nana/Downloads/attempted_text.csv')"
   ]
  },
  {
   "cell_type": "code",
   "execution_count": 3,
   "id": "8f5a2ff1",
   "metadata": {},
   "outputs": [
    {
     "data": {
      "text/html": [
       "<div>\n",
       "<style scoped>\n",
       "    .dataframe tbody tr th:only-of-type {\n",
       "        vertical-align: middle;\n",
       "    }\n",
       "\n",
       "    .dataframe tbody tr th {\n",
       "        vertical-align: top;\n",
       "    }\n",
       "\n",
       "    .dataframe thead th {\n",
       "        text-align: right;\n",
       "    }\n",
       "</style>\n",
       "<table border=\"1\" class=\"dataframe\">\n",
       "  <thead>\n",
       "    <tr style=\"text-align: right;\">\n",
       "      <th></th>\n",
       "      <th>Unnamed: 0</th>\n",
       "      <th>message_direction</th>\n",
       "      <th>Voter ID</th>\n",
       "    </tr>\n",
       "  </thead>\n",
       "  <tbody>\n",
       "    <tr>\n",
       "      <th>0</th>\n",
       "      <td>0</td>\n",
       "      <td>outgoing</td>\n",
       "      <td>2190569615</td>\n",
       "    </tr>\n",
       "    <tr>\n",
       "      <th>1</th>\n",
       "      <td>1</td>\n",
       "      <td>outgoing</td>\n",
       "      <td>2150089460</td>\n",
       "    </tr>\n",
       "    <tr>\n",
       "      <th>2</th>\n",
       "      <td>2</td>\n",
       "      <td>outgoing</td>\n",
       "      <td>1194639514</td>\n",
       "    </tr>\n",
       "    <tr>\n",
       "      <th>3</th>\n",
       "      <td>3</td>\n",
       "      <td>outgoing</td>\n",
       "      <td>2173605508</td>\n",
       "    </tr>\n",
       "    <tr>\n",
       "      <th>4</th>\n",
       "      <td>4</td>\n",
       "      <td>outgoing</td>\n",
       "      <td>2152627414</td>\n",
       "    </tr>\n",
       "    <tr>\n",
       "      <th>...</th>\n",
       "      <td>...</td>\n",
       "      <td>...</td>\n",
       "      <td>...</td>\n",
       "    </tr>\n",
       "    <tr>\n",
       "      <th>10162</th>\n",
       "      <td>18480</td>\n",
       "      <td>outgoing</td>\n",
       "      <td>2133414395</td>\n",
       "    </tr>\n",
       "    <tr>\n",
       "      <th>10163</th>\n",
       "      <td>18481</td>\n",
       "      <td>outgoing</td>\n",
       "      <td>2148804797</td>\n",
       "    </tr>\n",
       "    <tr>\n",
       "      <th>10164</th>\n",
       "      <td>18482</td>\n",
       "      <td>outgoing</td>\n",
       "      <td>1107987683</td>\n",
       "    </tr>\n",
       "    <tr>\n",
       "      <th>10165</th>\n",
       "      <td>18483</td>\n",
       "      <td>outgoing</td>\n",
       "      <td>1153244942</td>\n",
       "    </tr>\n",
       "    <tr>\n",
       "      <th>10166</th>\n",
       "      <td>18486</td>\n",
       "      <td>outgoing</td>\n",
       "      <td>2187096856</td>\n",
       "    </tr>\n",
       "  </tbody>\n",
       "</table>\n",
       "<p>10167 rows × 3 columns</p>\n",
       "</div>"
      ],
      "text/plain": [
       "       Unnamed: 0 message_direction    Voter ID\n",
       "0               0          outgoing  2190569615\n",
       "1               1          outgoing  2150089460\n",
       "2               2          outgoing  1194639514\n",
       "3               3          outgoing  2173605508\n",
       "4               4          outgoing  2152627414\n",
       "...           ...               ...         ...\n",
       "10162       18480          outgoing  2133414395\n",
       "10163       18481          outgoing  2148804797\n",
       "10164       18482          outgoing  1107987683\n",
       "10165       18483          outgoing  1153244942\n",
       "10166       18486          outgoing  2187096856\n",
       "\n",
       "[10167 rows x 3 columns]"
      ]
     },
     "execution_count": 3,
     "metadata": {},
     "output_type": "execute_result"
    }
   ],
   "source": [
    "attempted_text"
   ]
  },
  {
   "cell_type": "code",
   "execution_count": 4,
   "id": "b38af40c",
   "metadata": {},
   "outputs": [],
   "source": [
    "attempted_call = pd.read_csv('/Users/data30nana/Downloads/attempted_call.csv')\n",
    "door_to_door = pd.read_csv('/Users/data30nana/Downloads/door_to_door.csv')\n",
    "mailings = pd.read_csv('/Users/data30nana/Downloads/mailings.csv')"
   ]
  },
  {
   "cell_type": "code",
   "execution_count": 25,
   "id": "140c668c",
   "metadata": {},
   "outputs": [
    {
     "data": {
      "text/plain": [
       "3.6797191011235952"
      ]
     },
     "execution_count": 25,
     "metadata": {},
     "output_type": "execute_result"
    }
   ],
   "source": [
    "total_cost = (10167 * .06 + 7008 * .13 + 6668 * 2 + 37428 * .35)\n",
    "those_that_voted = 3560\n",
    "cost_per_vote = total_cost / those_that_voted\n",
    "\n",
    "37428 * .35 / 3560"
   ]
  },
  {
   "cell_type": "code",
   "execution_count": 10,
   "id": "ebcf0615",
   "metadata": {},
   "outputs": [],
   "source": [
    "num_of_uses = {\"Text\": 10167, \"Call\": 7008, \"Door Knocking\": 6668, \"Mailing\": 37428}\n",
    "individual_costs = {\"Text\": .06, \"Call\": .13, \"Door Knocking\": 2, \"Mailing\": .35}"
   ]
  },
  {
   "cell_type": "code",
   "execution_count": 29,
   "id": "1aba0961",
   "metadata": {},
   "outputs": [
    {
     "data": {
      "image/png": "[encoded data removed]",
      "text/plain": [
       "<Figure size 640x480 with 1 Axes>"
      ]
     },
     "metadata": {},
     "output_type": "display_data"
    }
   ],
   "source": [
    "all_four_on_one = {}\n",
    "\n",
    "labels = ['Avg Cost per Vote', 'Cost for All Four on One Vote']\n",
    "text_cost = [.17, .06]\n",
    "call_cost = [.26, .13]\n",
    "door_cost = [3.75, 2]\n",
    "mail_cost = [3.68, .35]\n",
    "       # the width of the bars: can also be len(x) sequence\n",
    "\n",
    "plt.bar(labels, text_cost)\n",
    "plt.bar(labels, call_cost, bottom=text_cost)\n",
    "plt.bar(labels, door_cost, bottom=call_cost, color='b')\n",
    "plt.bar(labels, mail_cost, bottom=door_cost, color='y')\n",
    "\n",
    "plt.ylabel('Cost in Dollars')\n",
    "plt.title('Cost for Voters')\n",
    "plt.legend([\"Text\", \"Call\", \"Door\", \"Mail\"])\n",
    "\n",
    "plt.show()"
   ]
  }
 ],
 "metadata": {
  "kernelspec": {
   "display_name": "Python 3 (ipykernel)",
   "language": "python",
   "name": "python3"
  },
  "language_info": {
   "codemirror_mode": {
    "name": "ipython",
    "version": 3
   },
   "file_extension": ".py",
   "mimetype": "text/x-python",
   "name": "python",
   "nbconvert_exporter": "python",
   "pygments_lexer": "ipython3",
   "version": "3.9.13"
  }
 },
 "nbformat": 4,
 "nbformat_minor": 5
}
