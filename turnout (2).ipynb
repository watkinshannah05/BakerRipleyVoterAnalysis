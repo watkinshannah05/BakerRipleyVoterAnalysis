{
 "cells": [
  {
   "cell_type": "code",
   "execution_count": 168,
   "id": "d8dd49fd",
   "metadata": {},
   "outputs": [],
   "source": [
    "import pandas as pd\n",
    "import matplotlib.pyplot as plt"
   ]
  },
  {
   "cell_type": "code",
   "execution_count": 184,
   "id": "918ecb01",
   "metadata": {},
   "outputs": [],
   "source": [
    "registered_1 = pd.read_csv('clean_voters_1 (1).csv')\n",
    "registered_2 = pd.read_csv('clean_voters_2.csv')\n",
    "registered_3 = pd.read_csv('clean_voters_3.csv')\n",
    "voted_1= pd.read_csv('nov_voters_1 (1).csv')\n",
    "voted_2= pd.read_csv('nov_voters_2.csv')\n",
    "voted_3= pd.read_csv('nov_voters_3.csv', low_memory=False)"
   ]
  },
  {
   "cell_type": "code",
   "execution_count": 196,
   "id": "c6e4861c",
   "metadata": {
    "scrolled": true
   },
   "outputs": [],
   "source": [
    "registered= pd.concat([registered_1, registered_2, registered_3], axis=0)\n",
    "voted=pd.concat([voted_1, voted_2, voted_3], axis=0)\n"
   ]
  },
  {
   "cell_type": "code",
   "execution_count": 193,
   "id": "dfbe8683",
   "metadata": {},
   "outputs": [
    {
     "data": {
      "text/plain": [
       "(2538171, 7)"
      ]
     },
     "execution_count": 193,
     "metadata": {},
     "output_type": "execute_result"
    }
   ],
   "source": [
    "\n"
   ]
  },
  {
   "cell_type": "code",
   "execution_count": 194,
   "id": "c212f30d",
   "metadata": {},
   "outputs": [
    {
     "data": {
      "text/plain": [
       "(971373, 7)"
      ]
     },
     "execution_count": 194,
     "metadata": {},
     "output_type": "execute_result"
    }
   ],
   "source": []
  },
  {
   "cell_type": "code",
   "execution_count": 195,
   "id": "7574739f",
   "metadata": {},
   "outputs": [
    {
     "data": {
      "text/plain": [
       "(719726, 7)"
      ]
     },
     "execution_count": 195,
     "metadata": {},
     "output_type": "execute_result"
    }
   ],
   "source": []
  },
  {
   "cell_type": "code",
   "execution_count": 192,
   "id": "14bb9c21",
   "metadata": {
    "scrolled": true
   },
   "outputs": [
    {
     "data": {
      "text/plain": [
       "1384"
      ]
     },
     "execution_count": 192,
     "metadata": {},
     "output_type": "execute_result"
    }
   ],
   "source": [
    "voted_1['Voting Precinct'].value_counts()[126]"
   ]
  },
  {
   "cell_type": "code",
   "execution_count": 172,
   "id": "90500621",
   "metadata": {},
   "outputs": [],
   "source": [
    "num_regis = registered_1['Precinct'].value_counts(dropna=True, sort=True)\n",
    "\n",
    "count_regis= pd.DataFrame(num_regis)\n",
    "counts_regis_reset = count_regis.reset_index()\n",
    "counts_regis_reset.columns = ['Precinct', 'Number of People Who Registered in the Precinct']\n"
   ]
  },
  {
   "cell_type": "code",
   "execution_count": 173,
   "id": "d38257c1",
   "metadata": {
    "scrolled": true
   },
   "outputs": [
    {
     "data": {
      "text/html": [
       "<div>\n",
       "<style scoped>\n",
       "    .dataframe tbody tr th:only-of-type {\n",
       "        vertical-align: middle;\n",
       "    }\n",
       "\n",
       "    .dataframe tbody tr th {\n",
       "        vertical-align: top;\n",
       "    }\n",
       "\n",
       "    .dataframe thead th {\n",
       "        text-align: right;\n",
       "    }\n",
       "</style>\n",
       "<table border=\"1\" class=\"dataframe\">\n",
       "  <thead>\n",
       "    <tr style=\"text-align: right;\">\n",
       "      <th></th>\n",
       "      <th>Precinct</th>\n",
       "      <th>Number of People Who Registered in the Precinct</th>\n",
       "    </tr>\n",
       "  </thead>\n",
       "  <tbody>\n",
       "    <tr>\n",
       "      <th>0</th>\n",
       "      <td>126</td>\n",
       "      <td>5962</td>\n",
       "    </tr>\n",
       "    <tr>\n",
       "      <th>1</th>\n",
       "      <td>336</td>\n",
       "      <td>5616</td>\n",
       "    </tr>\n",
       "    <tr>\n",
       "      <th>2</th>\n",
       "      <td>352</td>\n",
       "      <td>5368</td>\n",
       "    </tr>\n",
       "    <tr>\n",
       "      <th>3</th>\n",
       "      <td>387</td>\n",
       "      <td>5105</td>\n",
       "    </tr>\n",
       "    <tr>\n",
       "      <th>4</th>\n",
       "      <td>362</td>\n",
       "      <td>5104</td>\n",
       "    </tr>\n",
       "    <tr>\n",
       "      <th>...</th>\n",
       "      <td>...</td>\n",
       "      <td>...</td>\n",
       "    </tr>\n",
       "    <tr>\n",
       "      <th>392</th>\n",
       "      <td>141</td>\n",
       "      <td>262</td>\n",
       "    </tr>\n",
       "    <tr>\n",
       "      <th>393</th>\n",
       "      <td>373</td>\n",
       "      <td>152</td>\n",
       "    </tr>\n",
       "    <tr>\n",
       "      <th>394</th>\n",
       "      <td>313</td>\n",
       "      <td>80</td>\n",
       "    </tr>\n",
       "    <tr>\n",
       "      <th>395</th>\n",
       "      <td>167</td>\n",
       "      <td>69</td>\n",
       "    </tr>\n",
       "    <tr>\n",
       "      <th>396</th>\n",
       "      <td>156</td>\n",
       "      <td>36</td>\n",
       "    </tr>\n",
       "  </tbody>\n",
       "</table>\n",
       "<p>397 rows × 2 columns</p>\n",
       "</div>"
      ],
      "text/plain": [
       "     Precinct  Number of People Who Registered in the Precinct\n",
       "0         126                                             5962\n",
       "1         336                                             5616\n",
       "2         352                                             5368\n",
       "3         387                                             5105\n",
       "4         362                                             5104\n",
       "..        ...                                              ...\n",
       "392       141                                              262\n",
       "393       373                                              152\n",
       "394       313                                               80\n",
       "395       167                                               69\n",
       "396       156                                               36\n",
       "\n",
       "[397 rows x 2 columns]"
      ]
     },
     "execution_count": 173,
     "metadata": {},
     "output_type": "execute_result"
    }
   ],
   "source": [
    "counts_regis_reset"
   ]
  },
  {
   "cell_type": "code",
   "execution_count": 174,
   "id": "ac218120",
   "metadata": {},
   "outputs": [],
   "source": [
    "num_voted = voted_1['Voting Precinct'].value_counts(dropna=True, sort=True)\n",
    "\n",
    "counts_voted= pd.DataFrame(num_voted)\n",
    "counts_voted_reset = counts_voted.reset_index()\n",
    "counts_voted_reset.columns = ['Precinct', 'Number of People Who Voted in the Precinct']"
   ]
  },
  {
   "cell_type": "code",
   "execution_count": 175,
   "id": "35c36535",
   "metadata": {},
   "outputs": [
    {
     "data": {
      "text/html": [
       "<div>\n",
       "<style scoped>\n",
       "    .dataframe tbody tr th:only-of-type {\n",
       "        vertical-align: middle;\n",
       "    }\n",
       "\n",
       "    .dataframe tbody tr th {\n",
       "        vertical-align: top;\n",
       "    }\n",
       "\n",
       "    .dataframe thead th {\n",
       "        text-align: right;\n",
       "    }\n",
       "</style>\n",
       "<table border=\"1\" class=\"dataframe\">\n",
       "  <thead>\n",
       "    <tr style=\"text-align: right;\">\n",
       "      <th></th>\n",
       "      <th>Precinct</th>\n",
       "      <th>Number of People Who Voted in the Precinct</th>\n",
       "    </tr>\n",
       "  </thead>\n",
       "  <tbody>\n",
       "    <tr>\n",
       "      <th>0</th>\n",
       "      <td>234</td>\n",
       "      <td>1683</td>\n",
       "    </tr>\n",
       "    <tr>\n",
       "      <th>1</th>\n",
       "      <td>420</td>\n",
       "      <td>1664</td>\n",
       "    </tr>\n",
       "    <tr>\n",
       "      <th>2</th>\n",
       "      <td>213</td>\n",
       "      <td>1519</td>\n",
       "    </tr>\n",
       "    <tr>\n",
       "      <th>3</th>\n",
       "      <td>772</td>\n",
       "      <td>1461</td>\n",
       "    </tr>\n",
       "    <tr>\n",
       "      <th>4</th>\n",
       "      <td>74</td>\n",
       "      <td>1459</td>\n",
       "    </tr>\n",
       "    <tr>\n",
       "      <th>...</th>\n",
       "      <td>...</td>\n",
       "      <td>...</td>\n",
       "    </tr>\n",
       "    <tr>\n",
       "      <th>1085</th>\n",
       "      <td>944</td>\n",
       "      <td>2</td>\n",
       "    </tr>\n",
       "    <tr>\n",
       "      <th>1086</th>\n",
       "      <td>1099</td>\n",
       "      <td>2</td>\n",
       "    </tr>\n",
       "    <tr>\n",
       "      <th>1087</th>\n",
       "      <td>945</td>\n",
       "      <td>2</td>\n",
       "    </tr>\n",
       "    <tr>\n",
       "      <th>1088</th>\n",
       "      <td>1147</td>\n",
       "      <td>1</td>\n",
       "    </tr>\n",
       "    <tr>\n",
       "      <th>1089</th>\n",
       "      <td>907</td>\n",
       "      <td>1</td>\n",
       "    </tr>\n",
       "  </tbody>\n",
       "</table>\n",
       "<p>1090 rows × 2 columns</p>\n",
       "</div>"
      ],
      "text/plain": [
       "      Precinct  Number of People Who Voted in the Precinct\n",
       "0          234                                        1683\n",
       "1          420                                        1664\n",
       "2          213                                        1519\n",
       "3          772                                        1461\n",
       "4           74                                        1459\n",
       "...        ...                                         ...\n",
       "1085       944                                           2\n",
       "1086      1099                                           2\n",
       "1087       945                                           2\n",
       "1088      1147                                           1\n",
       "1089       907                                           1\n",
       "\n",
       "[1090 rows x 2 columns]"
      ]
     },
     "execution_count": 175,
     "metadata": {},
     "output_type": "execute_result"
    }
   ],
   "source": [
    "counts_voted_reset"
   ]
  },
  {
   "cell_type": "code",
   "execution_count": 176,
   "id": "0792eae2",
   "metadata": {},
   "outputs": [],
   "source": [
    "turnout= pd.merge(counts_regis_reset, counts_voted_reset)"
   ]
  },
  {
   "cell_type": "code",
   "execution_count": 181,
   "id": "520d2992",
   "metadata": {},
   "outputs": [],
   "source": [
    "turnout['Turnout Percentage']= turnout['Number of People Who Voted in the Precinct'] / turnout['Number of People Who Registered in the Precinct'] * 100"
   ]
  },
  {
   "cell_type": "code",
   "execution_count": 180,
   "id": "cf3ef6cf",
   "metadata": {},
   "outputs": [
    {
     "data": {
      "text/html": [
       "<div>\n",
       "<style scoped>\n",
       "    .dataframe tbody tr th:only-of-type {\n",
       "        vertical-align: middle;\n",
       "    }\n",
       "\n",
       "    .dataframe tbody tr th {\n",
       "        vertical-align: top;\n",
       "    }\n",
       "\n",
       "    .dataframe thead th {\n",
       "        text-align: right;\n",
       "    }\n",
       "</style>\n",
       "<table border=\"1\" class=\"dataframe\">\n",
       "  <thead>\n",
       "    <tr style=\"text-align: right;\">\n",
       "      <th></th>\n",
       "      <th>Precinct</th>\n",
       "      <th>Number of People Who Registered in the Precinct</th>\n",
       "      <th>Number of People Who Voted in the Precinct</th>\n",
       "      <th>Percentage</th>\n",
       "    </tr>\n",
       "  </thead>\n",
       "  <tbody>\n",
       "    <tr>\n",
       "      <th>0</th>\n",
       "      <td>126</td>\n",
       "      <td>5962</td>\n",
       "      <td>1384</td>\n",
       "      <td>23.213687</td>\n",
       "    </tr>\n",
       "    <tr>\n",
       "      <th>1</th>\n",
       "      <td>336</td>\n",
       "      <td>5616</td>\n",
       "      <td>733</td>\n",
       "      <td>13.051994</td>\n",
       "    </tr>\n",
       "    <tr>\n",
       "      <th>2</th>\n",
       "      <td>352</td>\n",
       "      <td>5368</td>\n",
       "      <td>1158</td>\n",
       "      <td>21.572280</td>\n",
       "    </tr>\n",
       "    <tr>\n",
       "      <th>3</th>\n",
       "      <td>387</td>\n",
       "      <td>5105</td>\n",
       "      <td>945</td>\n",
       "      <td>18.511263</td>\n",
       "    </tr>\n",
       "    <tr>\n",
       "      <th>4</th>\n",
       "      <td>362</td>\n",
       "      <td>5104</td>\n",
       "      <td>1121</td>\n",
       "      <td>21.963166</td>\n",
       "    </tr>\n",
       "    <tr>\n",
       "      <th>...</th>\n",
       "      <td>...</td>\n",
       "      <td>...</td>\n",
       "      <td>...</td>\n",
       "      <td>...</td>\n",
       "    </tr>\n",
       "    <tr>\n",
       "      <th>392</th>\n",
       "      <td>141</td>\n",
       "      <td>262</td>\n",
       "      <td>34</td>\n",
       "      <td>12.977099</td>\n",
       "    </tr>\n",
       "    <tr>\n",
       "      <th>393</th>\n",
       "      <td>373</td>\n",
       "      <td>152</td>\n",
       "      <td>28</td>\n",
       "      <td>18.421053</td>\n",
       "    </tr>\n",
       "    <tr>\n",
       "      <th>394</th>\n",
       "      <td>313</td>\n",
       "      <td>80</td>\n",
       "      <td>10</td>\n",
       "      <td>12.500000</td>\n",
       "    </tr>\n",
       "    <tr>\n",
       "      <th>395</th>\n",
       "      <td>167</td>\n",
       "      <td>69</td>\n",
       "      <td>7</td>\n",
       "      <td>10.144928</td>\n",
       "    </tr>\n",
       "    <tr>\n",
       "      <th>396</th>\n",
       "      <td>156</td>\n",
       "      <td>36</td>\n",
       "      <td>7</td>\n",
       "      <td>19.444444</td>\n",
       "    </tr>\n",
       "  </tbody>\n",
       "</table>\n",
       "<p>397 rows × 4 columns</p>\n",
       "</div>"
      ],
      "text/plain": [
       "     Precinct  Number of People Who Registered in the Precinct  \\\n",
       "0         126                                             5962   \n",
       "1         336                                             5616   \n",
       "2         352                                             5368   \n",
       "3         387                                             5105   \n",
       "4         362                                             5104   \n",
       "..        ...                                              ...   \n",
       "392       141                                              262   \n",
       "393       373                                              152   \n",
       "394       313                                               80   \n",
       "395       167                                               69   \n",
       "396       156                                               36   \n",
       "\n",
       "     Number of People Who Voted in the Precinct  Percentage  \n",
       "0                                          1384   23.213687  \n",
       "1                                           733   13.051994  \n",
       "2                                          1158   21.572280  \n",
       "3                                           945   18.511263  \n",
       "4                                          1121   21.963166  \n",
       "..                                          ...         ...  \n",
       "392                                          34   12.977099  \n",
       "393                                          28   18.421053  \n",
       "394                                          10   12.500000  \n",
       "395                                           7   10.144928  \n",
       "396                                           7   19.444444  \n",
       "\n",
       "[397 rows x 4 columns]"
      ]
     },
     "execution_count": 180,
     "metadata": {},
     "output_type": "execute_result"
    }
   ],
   "source": [
    "turnout"
   ]
  },
  {
   "cell_type": "code",
   "execution_count": null,
   "id": "8957eebb",
   "metadata": {},
   "outputs": [],
   "source": []
  }
 ],
 "metadata": {
  "kernelspec": {
   "display_name": "Python 3 (ipykernel)",
   "language": "python",
   "name": "python3"
  },
  "language_info": {
   "codemirror_mode": {
    "name": "ipython",
    "version": 3
   },
   "file_extension": ".py",
   "mimetype": "text/x-python",
   "name": "python",
   "nbconvert_exporter": "python",
   "pygments_lexer": "ipython3",
   "version": "3.9.12"
  }
 },
 "nbformat": 4,
 "nbformat_minor": 5
}
