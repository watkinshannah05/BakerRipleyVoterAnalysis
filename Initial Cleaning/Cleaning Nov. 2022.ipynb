{
 "cells": [
  {
   "cell_type": "code",
   "execution_count": 12,
   "id": "d6ea1afe",
   "metadata": {},
   "outputs": [],
   "source": [
    "import matplotlib.pyplot as plt\n",
    "import pandas as pd\n"
   ]
  },
  {
   "cell_type": "code",
   "execution_count": 14,
   "id": "3c3346b9",
   "metadata": {},
   "outputs": [
    {
     "name": "stdout",
     "output_type": "stream",
     "text": [
      "Index(['Voter ID', 'VOTE_TYPE', 'CITY', 'ZIP', 'SEX', 'BIRTHYEAR',\n",
      "       'Voting Site', 'Voting Precinct'],\n",
      "      dtype='object')\n"
     ]
    }
   ],
   "source": [
    "voters_2 = pd.read_csv('Nov2022_Voters_2of3.csv')\n",
    "voters_2.drop(voters_2.iloc[:, 9:], inplace=True, axis=1)\n",
    "voters_2.drop(['DATE_VOTED'], inplace=True, axis=1)\n",
    "print(voters_2.columns)\n",
    "\n",
    "voters_2.drop_duplicates(inplace=True)\n",
    "\n",
    "voters_2.to_csv('nov_voters_2.csv')\n"
   ]
  },
  {
   "cell_type": "code",
   "execution_count": null,
   "id": "3d5ea056",
   "metadata": {},
   "outputs": [],
   "source": []
  }
 ],
 "metadata": {
  "kernelspec": {
   "display_name": "Python 3 (ipykernel)",
   "language": "python",
   "name": "python3"
  },
  "language_info": {
   "codemirror_mode": {
    "name": "ipython",
    "version": 3
   },
   "file_extension": ".py",
   "mimetype": "text/x-python",
   "name": "python",
   "nbconvert_exporter": "python",
   "pygments_lexer": "ipython3",
   "version": "3.9.13"
  }
 },
 "nbformat": 4,
 "nbformat_minor": 5
}
