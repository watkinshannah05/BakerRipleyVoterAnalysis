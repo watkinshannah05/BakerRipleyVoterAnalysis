{
  "nbformat": 4,
  "nbformat_minor": 0,
  "metadata": {
    "colab": {
      "provenance": [],
      "include_colab_link": true
    },
    "kernelspec": {
      "name": "python3",
      "display_name": "Python 3"
    },
    "language_info": {
      "name": "python"
    }
  },
  "cells": [
    {
      "cell_type": "markdown",
      "metadata": {
        "id": "view-in-github",
        "colab_type": "text"
      },
      "source": [
        "<a href=\"https://colab.research.google.com/github/watkinshannah05/BakerRipleyVoterAnalysis/blob/main/BakerRipley_Cleaning.ipynb\" target=\"_parent\"><img src=\"https://colab.research.google.com/assets/colab-badge.svg\" alt=\"Open In Colab\"/></a>"
      ]
    },
    {
      "cell_type": "code",
      "execution_count": 2,
      "metadata": {
        "id": "ah-CKWkSH0-y"
      },
      "outputs": [],
      "source": [
        " import pandas as pd\n",
        "import matplotlib.pyplot as plt"
      ]
    },
    {
      "cell_type": "code",
      "source": [
        "register_voters_1 = pd.read_csv('/content/drive/MyDrive/AllRegistered_Harris_1of3.csv')"
      ],
      "metadata": {
        "id": "ydctFVkzIDN1"
      },
      "execution_count": 6,
      "outputs": []
    },
    {
      "cell_type": "code",
      "source": [
        "from google.colab import drive\n",
        "drive.mount('/content/drive')"
      ],
      "metadata": {
        "colab": {
          "base_uri": "https://localhost:8080/"
        },
        "id": "W56B82IdPYPM",
        "outputId": "8a6859d0-9c59-4f38-fe42-d372c3a5c7e6"
      },
      "execution_count": 5,
      "outputs": [
        {
          "output_type": "stream",
          "name": "stdout",
          "text": [
            "Drive already mounted at /content/drive; to attempt to forcibly remount, call drive.mount(\"/content/drive\", force_remount=True).\n"
          ]
        }
      ]
    },
    {
      "cell_type": "code",
      "source": [
        "register_voters_2 = pd.read_csv('/content/drive/MyDrive/AllRegistered_Harris_2of3.csv')"
      ],
      "metadata": {
        "id": "TocVSRBvJcAl"
      },
      "execution_count": 7,
      "outputs": []
    },
    {
      "cell_type": "code",
      "source": [
        "register_voters_3 = pd.read_csv('/content/drive/MyDrive/AllRegistered_Harris_3of3.csv')"
      ],
      "metadata": {
        "id": "JhuOD7VMJhfH"
      },
      "execution_count": 8,
      "outputs": []
    },
    {
      "cell_type": "code",
      "source": [
        "print(\"Registered Voters Part 1 Shape: \" + str(register_voters_1.shape))\n",
        "print(\"Registered Voters Part 2 Shape: \" + str(register_voters_2.shape))\n",
        "print(\"Registered Voters Part 3 Shape: \" + str(register_voters_3.shape))"
      ],
      "metadata": {
        "colab": {
          "base_uri": "https://localhost:8080/"
        },
        "id": "rGmCNDl5JluW",
        "outputId": "306f287a-8363-40c8-b628-cdb775a2b833"
      },
      "execution_count": 9,
      "outputs": [
        {
          "output_type": "stream",
          "name": "stdout",
          "text": [
            "Registered Voters Part 1 Shape: (971374, 6)\n",
            "Registered Voters Part 2 Shape: (847076, 6)\n",
            "Registered Voters Part 3 Shape: (719726, 6)\n"
          ]
        }
      ]
    },
    {
      "cell_type": "code",
      "source": [
        "register_voters_1.dropna(inplace=True)\n",
        "register_voters_1.drop_duplicates(inplace=True)\n",
        "register_voters_1.shape"
      ],
      "metadata": {
        "colab": {
          "base_uri": "https://localhost:8080/"
        },
        "id": "0hkxcNbbLHyq",
        "outputId": "523dce57-39fb-4ea2-c4ed-8c9bd1a2fbc3"
      },
      "execution_count": 10,
      "outputs": [
        {
          "output_type": "execute_result",
          "data": {
            "text/plain": [
              "(971373, 6)"
            ]
          },
          "metadata": {},
          "execution_count": 10
        }
      ]
    },
    {
      "cell_type": "code",
      "source": [
        "register_voters_2.dropna(inplace=True)\n",
        "register_voters_2.drop_duplicates(inplace=True)\n",
        "register_voters_2.shape"
      ],
      "metadata": {
        "colab": {
          "base_uri": "https://localhost:8080/"
        },
        "id": "4ycaCmNCLoKR",
        "outputId": "4ccf47a2-cb4a-4c59-9e8a-4c852eb5cc68"
      },
      "execution_count": 11,
      "outputs": [
        {
          "output_type": "execute_result",
          "data": {
            "text/plain": [
              "(847072, 6)"
            ]
          },
          "metadata": {},
          "execution_count": 11
        }
      ]
    },
    {
      "cell_type": "code",
      "source": [
        "register_voters_3.dropna(inplace=True)\n",
        "register_voters_3.drop_duplicates(inplace=True)\n",
        "register_voters_3.shape"
      ],
      "metadata": {
        "colab": {
          "base_uri": "https://localhost:8080/"
        },
        "id": "_yy2yDLGL2Yv",
        "outputId": "e0c17d9e-5182-43f6-dbe4-9a2188982e9b"
      },
      "execution_count": 12,
      "outputs": [
        {
          "output_type": "execute_result",
          "data": {
            "text/plain": [
              "(719726, 6)"
            ]
          },
          "metadata": {},
          "execution_count": 12
        }
      ]
    },
    {
      "cell_type": "code",
      "source": [
        "register_voters_1.columns"
      ],
      "metadata": {
        "colab": {
          "base_uri": "https://localhost:8080/"
        },
        "id": "lG3jqCmaMDuv",
        "outputId": "ee0d5561-d5f3-42a4-800e-6b999d63da3f"
      },
      "execution_count": 13,
      "outputs": [
        {
          "output_type": "execute_result",
          "data": {
            "text/plain": [
              "Index(['Status', 'Voter ID', 'Precinct', 'City', 'Zip', 'Effective Date'], dtype='object')"
            ]
          },
          "metadata": {},
          "execution_count": 13
        }
      ]
    },
    {
      "cell_type": "code",
      "source": [
        "from google.colab import files"
      ],
      "metadata": {
        "id": "acgQiCUZP6Pd"
      },
      "execution_count": 15,
      "outputs": []
    },
    {
      "cell_type": "code",
      "source": [
        "register_voters_1.to_csv('clean_voters_1.csv')"
      ],
      "metadata": {
        "id": "dRugaBp0Q6-4"
      },
      "execution_count": 20,
      "outputs": []
    },
    {
      "cell_type": "code",
      "source": [
        "files.download('clean_voters_1.csv')"
      ],
      "metadata": {
        "colab": {
          "base_uri": "https://localhost:8080/",
          "height": 17
        },
        "id": "7fzZ8DtlSB1h",
        "outputId": "5f84897b-6606-4a9d-9310-5b4b02ad3eb0"
      },
      "execution_count": 21,
      "outputs": [
        {
          "output_type": "display_data",
          "data": {
            "text/plain": [
              "<IPython.core.display.Javascript object>"
            ],
            "application/javascript": [
              "\n",
              "    async function download(id, filename, size) {\n",
              "      if (!google.colab.kernel.accessAllowed) {\n",
              "        return;\n",
              "      }\n",
              "      const div = document.createElement('div');\n",
              "      const label = document.createElement('label');\n",
              "      label.textContent = `Downloading \"${filename}\": `;\n",
              "      div.appendChild(label);\n",
              "      const progress = document.createElement('progress');\n",
              "      progress.max = size;\n",
              "      div.appendChild(progress);\n",
              "      document.body.appendChild(div);\n",
              "\n",
              "      const buffers = [];\n",
              "      let downloaded = 0;\n",
              "\n",
              "      const channel = await google.colab.kernel.comms.open(id);\n",
              "      // Send a message to notify the kernel that we're ready.\n",
              "      channel.send({})\n",
              "\n",
              "      for await (const message of channel.messages) {\n",
              "        // Send a message to notify the kernel that we're ready.\n",
              "        channel.send({})\n",
              "        if (message.buffers) {\n",
              "          for (const buffer of message.buffers) {\n",
              "            buffers.push(buffer);\n",
              "            downloaded += buffer.byteLength;\n",
              "            progress.value = downloaded;\n",
              "          }\n",
              "        }\n",
              "      }\n",
              "      const blob = new Blob(buffers, {type: 'application/binary'});\n",
              "      const a = document.createElement('a');\n",
              "      a.href = window.URL.createObjectURL(blob);\n",
              "      a.download = filename;\n",
              "      div.appendChild(a);\n",
              "      a.click();\n",
              "      div.remove();\n",
              "    }\n",
              "  "
            ]
          },
          "metadata": {}
        },
        {
          "output_type": "display_data",
          "data": {
            "text/plain": [
              "<IPython.core.display.Javascript object>"
            ],
            "application/javascript": [
              "download(\"download_b0285c5e-a055-42de-8dc6-f586de64e4b7\", \"clean_voters_1.csv\", 51206296)"
            ]
          },
          "metadata": {}
        }
      ]
    },
    {
      "cell_type": "code",
      "source": [
        "register_voters_2.to_csv('clean_voters_2.csv')"
      ],
      "metadata": {
        "id": "fOHb0g0kSiaU"
      },
      "execution_count": 22,
      "outputs": []
    },
    {
      "cell_type": "code",
      "source": [
        "register_voters_3.to_csv('clean_voters_3.csv')"
      ],
      "metadata": {
        "id": "fCCQnsV3Snqk"
      },
      "execution_count": 23,
      "outputs": []
    },
    {
      "cell_type": "code",
      "source": [
        "voters_12 = pd.concat([register_voters_1, register_voters_2])"
      ],
      "metadata": {
        "id": "ZA619QWROQiJ"
      },
      "execution_count": 14,
      "outputs": []
    },
    {
      "cell_type": "code",
      "source": [
        "voters_123 = pd.concat([voters_12, register_voters_3])"
      ],
      "metadata": {
        "id": "6W9tbdTpTBeE"
      },
      "execution_count": 24,
      "outputs": []
    },
    {
      "cell_type": "code",
      "source": [
        "voters_123.head()"
      ],
      "metadata": {
        "colab": {
          "base_uri": "https://localhost:8080/",
          "height": 206
        },
        "id": "P9inZlN9TGlB",
        "outputId": "39ceb22f-ae9c-4007-d1ca-0e1fee411516"
      },
      "execution_count": 25,
      "outputs": [
        {
          "output_type": "execute_result",
          "data": {
            "text/plain": [
              "   Status    Voter ID  Precinct     City    Zip Effective Date\n",
              "0  Active  1103621098        64  HOUSTON  77011      8/10/2007\n",
              "1  Active  1103589060        64  HOUSTON  77011       1/1/2002\n",
              "2  Active  1103644217        64  HOUSTON  77011      9/20/2003\n",
              "3  Active  2194491142        64  HOUSTON  77011      9/17/2022\n",
              "4  Active  1217953890        64  HOUSTON  77011      12/3/2020"
            ],
            "text/html": [
              "\n",
              "  <div id=\"df-80151b5b-4898-49a6-b2a3-fd620cd70c3d\">\n",
              "    <div class=\"colab-df-container\">\n",
              "      <div>\n",
              "<style scoped>\n",
              "    .dataframe tbody tr th:only-of-type {\n",
              "        vertical-align: middle;\n",
              "    }\n",
              "\n",
              "    .dataframe tbody tr th {\n",
              "        vertical-align: top;\n",
              "    }\n",
              "\n",
              "    .dataframe thead th {\n",
              "        text-align: right;\n",
              "    }\n",
              "</style>\n",
              "<table border=\"1\" class=\"dataframe\">\n",
              "  <thead>\n",
              "    <tr style=\"text-align: right;\">\n",
              "      <th></th>\n",
              "      <th>Status</th>\n",
              "      <th>Voter ID</th>\n",
              "      <th>Precinct</th>\n",
              "      <th>City</th>\n",
              "      <th>Zip</th>\n",
              "      <th>Effective Date</th>\n",
              "    </tr>\n",
              "  </thead>\n",
              "  <tbody>\n",
              "    <tr>\n",
              "      <th>0</th>\n",
              "      <td>Active</td>\n",
              "      <td>1103621098</td>\n",
              "      <td>64</td>\n",
              "      <td>HOUSTON</td>\n",
              "      <td>77011</td>\n",
              "      <td>8/10/2007</td>\n",
              "    </tr>\n",
              "    <tr>\n",
              "      <th>1</th>\n",
              "      <td>Active</td>\n",
              "      <td>1103589060</td>\n",
              "      <td>64</td>\n",
              "      <td>HOUSTON</td>\n",
              "      <td>77011</td>\n",
              "      <td>1/1/2002</td>\n",
              "    </tr>\n",
              "    <tr>\n",
              "      <th>2</th>\n",
              "      <td>Active</td>\n",
              "      <td>1103644217</td>\n",
              "      <td>64</td>\n",
              "      <td>HOUSTON</td>\n",
              "      <td>77011</td>\n",
              "      <td>9/20/2003</td>\n",
              "    </tr>\n",
              "    <tr>\n",
              "      <th>3</th>\n",
              "      <td>Active</td>\n",
              "      <td>2194491142</td>\n",
              "      <td>64</td>\n",
              "      <td>HOUSTON</td>\n",
              "      <td>77011</td>\n",
              "      <td>9/17/2022</td>\n",
              "    </tr>\n",
              "    <tr>\n",
              "      <th>4</th>\n",
              "      <td>Active</td>\n",
              "      <td>1217953890</td>\n",
              "      <td>64</td>\n",
              "      <td>HOUSTON</td>\n",
              "      <td>77011</td>\n",
              "      <td>12/3/2020</td>\n",
              "    </tr>\n",
              "  </tbody>\n",
              "</table>\n",
              "</div>\n",
              "      <button class=\"colab-df-convert\" onclick=\"convertToInteractive('df-80151b5b-4898-49a6-b2a3-fd620cd70c3d')\"\n",
              "              title=\"Convert this dataframe to an interactive table.\"\n",
              "              style=\"display:none;\">\n",
              "        \n",
              "  <svg xmlns=\"http://www.w3.org/2000/svg\" height=\"24px\"viewBox=\"0 0 24 24\"\n",
              "       width=\"24px\">\n",
              "    <path d=\"M0 0h24v24H0V0z\" fill=\"none\"/>\n",
              "    <path d=\"M18.56 5.44l.94 2.06.94-2.06 2.06-.94-2.06-.94-.94-2.06-.94 2.06-2.06.94zm-11 1L8.5 8.5l.94-2.06 2.06-.94-2.06-.94L8.5 2.5l-.94 2.06-2.06.94zm10 10l.94 2.06.94-2.06 2.06-.94-2.06-.94-.94-2.06-.94 2.06-2.06.94z\"/><path d=\"M17.41 7.96l-1.37-1.37c-.4-.4-.92-.59-1.43-.59-.52 0-1.04.2-1.43.59L10.3 9.45l-7.72 7.72c-.78.78-.78 2.05 0 2.83L4 21.41c.39.39.9.59 1.41.59.51 0 1.02-.2 1.41-.59l7.78-7.78 2.81-2.81c.8-.78.8-2.07 0-2.86zM5.41 20L4 18.59l7.72-7.72 1.47 1.35L5.41 20z\"/>\n",
              "  </svg>\n",
              "      </button>\n",
              "      \n",
              "  <style>\n",
              "    .colab-df-container {\n",
              "      display:flex;\n",
              "      flex-wrap:wrap;\n",
              "      gap: 12px;\n",
              "    }\n",
              "\n",
              "    .colab-df-convert {\n",
              "      background-color: #E8F0FE;\n",
              "      border: none;\n",
              "      border-radius: 50%;\n",
              "      cursor: pointer;\n",
              "      display: none;\n",
              "      fill: #1967D2;\n",
              "      height: 32px;\n",
              "      padding: 0 0 0 0;\n",
              "      width: 32px;\n",
              "    }\n",
              "\n",
              "    .colab-df-convert:hover {\n",
              "      background-color: #E2EBFA;\n",
              "      box-shadow: 0px 1px 2px rgba(60, 64, 67, 0.3), 0px 1px 3px 1px rgba(60, 64, 67, 0.15);\n",
              "      fill: #174EA6;\n",
              "    }\n",
              "\n",
              "    [theme=dark] .colab-df-convert {\n",
              "      background-color: #3B4455;\n",
              "      fill: #D2E3FC;\n",
              "    }\n",
              "\n",
              "    [theme=dark] .colab-df-convert:hover {\n",
              "      background-color: #434B5C;\n",
              "      box-shadow: 0px 1px 3px 1px rgba(0, 0, 0, 0.15);\n",
              "      filter: drop-shadow(0px 1px 2px rgba(0, 0, 0, 0.3));\n",
              "      fill: #FFFFFF;\n",
              "    }\n",
              "  </style>\n",
              "\n",
              "      <script>\n",
              "        const buttonEl =\n",
              "          document.querySelector('#df-80151b5b-4898-49a6-b2a3-fd620cd70c3d button.colab-df-convert');\n",
              "        buttonEl.style.display =\n",
              "          google.colab.kernel.accessAllowed ? 'block' : 'none';\n",
              "\n",
              "        async function convertToInteractive(key) {\n",
              "          const element = document.querySelector('#df-80151b5b-4898-49a6-b2a3-fd620cd70c3d');\n",
              "          const dataTable =\n",
              "            await google.colab.kernel.invokeFunction('convertToInteractive',\n",
              "                                                     [key], {});\n",
              "          if (!dataTable) return;\n",
              "\n",
              "          const docLinkHtml = 'Like what you see? Visit the ' +\n",
              "            '<a target=\"_blank\" href=https://colab.research.google.com/notebooks/data_table.ipynb>data table notebook</a>'\n",
              "            + ' to learn more about interactive tables.';\n",
              "          element.innerHTML = '';\n",
              "          dataTable['output_type'] = 'display_data';\n",
              "          await google.colab.output.renderOutput(dataTable, element);\n",
              "          const docLink = document.createElement('div');\n",
              "          docLink.innerHTML = docLinkHtml;\n",
              "          element.appendChild(docLink);\n",
              "        }\n",
              "      </script>\n",
              "    </div>\n",
              "  </div>\n",
              "  "
            ]
          },
          "metadata": {},
          "execution_count": 25
        }
      ]
    },
    {
      "cell_type": "code",
      "source": [
        "voters_123.shape"
      ],
      "metadata": {
        "colab": {
          "base_uri": "https://localhost:8080/"
        },
        "id": "AWHaJfobTKft",
        "outputId": "a99cd250-15db-4f9e-e468-309018103900"
      },
      "execution_count": 26,
      "outputs": [
        {
          "output_type": "execute_result",
          "data": {
            "text/plain": [
              "(2538171, 6)"
            ]
          },
          "metadata": {},
          "execution_count": 26
        }
      ]
    },
    {
      "cell_type": "code",
      "source": [
        "voters_123.drop_duplicates(inplace=True)"
      ],
      "metadata": {
        "id": "AIVbnOFCTXhV"
      },
      "execution_count": 28,
      "outputs": []
    },
    {
      "cell_type": "code",
      "source": [
        "voters_123.shape"
      ],
      "metadata": {
        "colab": {
          "base_uri": "https://localhost:8080/"
        },
        "id": "t1ECTmU0TgUk",
        "outputId": "72ddb328-ea2f-4379-dee9-7d507527a096"
      },
      "execution_count": 29,
      "outputs": [
        {
          "output_type": "execute_result",
          "data": {
            "text/plain": [
              "(2538171, 6)"
            ]
          },
          "metadata": {},
          "execution_count": 29
        }
      ]
    },
    {
      "cell_type": "code",
      "source": [
        "voters_123.to_csv('registered_voters.csv')"
      ],
      "metadata": {
        "id": "5teWyLmzTslg"
      },
      "execution_count": 30,
      "outputs": []
    },
    {
      "cell_type": "code",
      "source": [
        "nov_voters_1 = pd.read_csv('/content/drive/Shareddrives/BakerRipley 2023 Datathon/Nov2022_Voters_1of3.csv')"
      ],
      "metadata": {
        "id": "CD-aSHWBW2XF"
      },
      "execution_count": 51,
      "outputs": []
    },
    {
      "cell_type": "code",
      "source": [
        "nov_voters_1.columns"
      ],
      "metadata": {
        "colab": {
          "base_uri": "https://localhost:8080/"
        },
        "id": "sPzhAX53X4AE",
        "outputId": "a0094176-65b5-4c62-c859-b1ff9bef79e6"
      },
      "execution_count": 52,
      "outputs": [
        {
          "output_type": "execute_result",
          "data": {
            "text/plain": [
              "Index(['Voter ID', 'VOTE_TYPE', 'CITY', 'ZIP', 'SEX', 'DATE_VOTED',\n",
              "       'BIRTHYEAR', 'Voting Site', 'Voting Precinct',\n",
              "       'Congressional House District', 'State Senate District',\n",
              "       'State Representative District', 'County Commissioner District',\n",
              "       'State Board of Education District',\n",
              "       'Just of the Peace/Constable District', 'School District',\n",
              "       'School District Postion/Seat District', 'Municipality',\n",
              "       'Municipality District', 'Utility District', 'Management District',\n",
              "       'Community College District', 'Harris County SCHOOL TRUSTEE District',\n",
              "       'Community College Position District', 'Metro  District'],\n",
              "      dtype='object')"
            ]
          },
          "metadata": {},
          "execution_count": 52
        }
      ]
    },
    {
      "cell_type": "code",
      "source": [
        "nov_voters_1.drop(nov_voters_1.iloc[:, 9:], inplace=True, axis=1)"
      ],
      "metadata": {
        "id": "K1oxcTkjZ-jq"
      },
      "execution_count": 53,
      "outputs": []
    },
    {
      "cell_type": "code",
      "source": [
        "nov_voters_1.columns"
      ],
      "metadata": {
        "colab": {
          "base_uri": "https://localhost:8080/"
        },
        "id": "FUWBzzqNabE8",
        "outputId": "c53147d5-e706-4b36-d0aa-679752dd45b5"
      },
      "execution_count": 54,
      "outputs": [
        {
          "output_type": "execute_result",
          "data": {
            "text/plain": [
              "Index(['Voter ID', 'VOTE_TYPE', 'CITY', 'ZIP', 'SEX', 'DATE_VOTED',\n",
              "       'BIRTHYEAR', 'Voting Site', 'Voting Precinct'],\n",
              "      dtype='object')"
            ]
          },
          "metadata": {},
          "execution_count": 54
        }
      ]
    },
    {
      "cell_type": "code",
      "source": [
        "nov_voters_1.shape"
      ],
      "metadata": {
        "colab": {
          "base_uri": "https://localhost:8080/"
        },
        "id": "cI6tNUPHap9h",
        "outputId": "edd07d3e-6af7-4f6b-eb61-827642257a1e"
      },
      "execution_count": 55,
      "outputs": [
        {
          "output_type": "execute_result",
          "data": {
            "text/plain": [
              "(450000, 9)"
            ]
          },
          "metadata": {},
          "execution_count": 55
        }
      ]
    },
    {
      "cell_type": "code",
      "source": [
        "nov_voters_1.drop_duplicates"
      ],
      "metadata": {
        "colab": {
          "base_uri": "https://localhost:8080/"
        },
        "id": "mQ8N-zfjcm2Q",
        "outputId": "fb0a0017-57da-4ff2-e290-d282d6d2b66a"
      },
      "execution_count": 58,
      "outputs": [
        {
          "output_type": "execute_result",
          "data": {
            "text/plain": [
              "<bound method DataFrame.drop_duplicates of           Voter ID VOTE_TYPE     CITY    ZIP  SEX        DATE_VOTED  \\\n",
              "0       1102134232         P  HOUSTON  77007    M    11/3/2022 0:00   \n",
              "1       1102253308         P  HOUSTON  77009    F   10/24/2022 0:00   \n",
              "2       1102030272         E  HOUSTON  77007    F    11/8/2022 0:00   \n",
              "3       1102253312         M  HOUSTON  77009    F    11/2/2022 8:49   \n",
              "4       1102253349         P  HOUSTON  77009    M   10/26/2022 0:00   \n",
              "...            ...       ...      ...    ...  ...               ...   \n",
              "449995  1119810537         P  HUFFMAN  77336  NaN    11/1/2022 0:00   \n",
              "449996  1119803257         M  HUFFMAN  77336    F  10/18/2022 15:34   \n",
              "449997  1104371338         E  HUFFMAN  77336    M    11/8/2022 0:00   \n",
              "449998  1104379152         P  HUFFMAN  77336    F   10/25/2022 0:00   \n",
              "449999  1117189334         P  HUFFMAN  77336    F    11/1/2022 0:00   \n",
              "\n",
              "        BIRTHYEAR Voting Site  Voting Precinct  \n",
              "0            1952     SRD134M                1  \n",
              "1            1947     SRD145M                1  \n",
              "2            1944       92049                1  \n",
              "3            1948         NaN                1  \n",
              "4            1949     SRD145M                1  \n",
              "...           ...         ...              ...  \n",
              "449995       1954     SRD127Y             1152  \n",
              "449996       1930         NaN             1152  \n",
              "449997       1961       32071             1152  \n",
              "449998       1964     SRD128V             1152  \n",
              "449999       1968     SRD141U             1152  \n",
              "\n",
              "[450000 rows x 9 columns]>"
            ]
          },
          "metadata": {},
          "execution_count": 58
        }
      ]
    },
    {
      "cell_type": "code",
      "source": [
        "nov_voters_1.drop(['DATE_VOTED'], axis=1)"
      ],
      "metadata": {
        "colab": {
          "base_uri": "https://localhost:8080/",
          "height": 423
        },
        "id": "RoxspBuSa1JT",
        "outputId": "cd3aa87b-ed90-4387-ea04-412f4a67a704"
      },
      "execution_count": 56,
      "outputs": [
        {
          "output_type": "execute_result",
          "data": {
            "text/plain": [
              "          Voter ID VOTE_TYPE     CITY    ZIP  SEX  BIRTHYEAR Voting Site  \\\n",
              "0       1102134232         P  HOUSTON  77007    M       1952     SRD134M   \n",
              "1       1102253308         P  HOUSTON  77009    F       1947     SRD145M   \n",
              "2       1102030272         E  HOUSTON  77007    F       1944       92049   \n",
              "3       1102253312         M  HOUSTON  77009    F       1948         NaN   \n",
              "4       1102253349         P  HOUSTON  77009    M       1949     SRD145M   \n",
              "...            ...       ...      ...    ...  ...        ...         ...   \n",
              "449995  1119810537         P  HUFFMAN  77336  NaN       1954     SRD127Y   \n",
              "449996  1119803257         M  HUFFMAN  77336    F       1930         NaN   \n",
              "449997  1104371338         E  HUFFMAN  77336    M       1961       32071   \n",
              "449998  1104379152         P  HUFFMAN  77336    F       1964     SRD128V   \n",
              "449999  1117189334         P  HUFFMAN  77336    F       1968     SRD141U   \n",
              "\n",
              "        Voting Precinct  \n",
              "0                     1  \n",
              "1                     1  \n",
              "2                     1  \n",
              "3                     1  \n",
              "4                     1  \n",
              "...                 ...  \n",
              "449995             1152  \n",
              "449996             1152  \n",
              "449997             1152  \n",
              "449998             1152  \n",
              "449999             1152  \n",
              "\n",
              "[450000 rows x 8 columns]"
            ],
            "text/html": [
              "\n",
              "  <div id=\"df-9bfd7f48-5d47-460e-8c52-f4bc32b91e12\">\n",
              "    <div class=\"colab-df-container\">\n",
              "      <div>\n",
              "<style scoped>\n",
              "    .dataframe tbody tr th:only-of-type {\n",
              "        vertical-align: middle;\n",
              "    }\n",
              "\n",
              "    .dataframe tbody tr th {\n",
              "        vertical-align: top;\n",
              "    }\n",
              "\n",
              "    .dataframe thead th {\n",
              "        text-align: right;\n",
              "    }\n",
              "</style>\n",
              "<table border=\"1\" class=\"dataframe\">\n",
              "  <thead>\n",
              "    <tr style=\"text-align: right;\">\n",
              "      <th></th>\n",
              "      <th>Voter ID</th>\n",
              "      <th>VOTE_TYPE</th>\n",
              "      <th>CITY</th>\n",
              "      <th>ZIP</th>\n",
              "      <th>SEX</th>\n",
              "      <th>BIRTHYEAR</th>\n",
              "      <th>Voting Site</th>\n",
              "      <th>Voting Precinct</th>\n",
              "    </tr>\n",
              "  </thead>\n",
              "  <tbody>\n",
              "    <tr>\n",
              "      <th>0</th>\n",
              "      <td>1102134232</td>\n",
              "      <td>P</td>\n",
              "      <td>HOUSTON</td>\n",
              "      <td>77007</td>\n",
              "      <td>M</td>\n",
              "      <td>1952</td>\n",
              "      <td>SRD134M</td>\n",
              "      <td>1</td>\n",
              "    </tr>\n",
              "    <tr>\n",
              "      <th>1</th>\n",
              "      <td>1102253308</td>\n",
              "      <td>P</td>\n",
              "      <td>HOUSTON</td>\n",
              "      <td>77009</td>\n",
              "      <td>F</td>\n",
              "      <td>1947</td>\n",
              "      <td>SRD145M</td>\n",
              "      <td>1</td>\n",
              "    </tr>\n",
              "    <tr>\n",
              "      <th>2</th>\n",
              "      <td>1102030272</td>\n",
              "      <td>E</td>\n",
              "      <td>HOUSTON</td>\n",
              "      <td>77007</td>\n",
              "      <td>F</td>\n",
              "      <td>1944</td>\n",
              "      <td>92049</td>\n",
              "      <td>1</td>\n",
              "    </tr>\n",
              "    <tr>\n",
              "      <th>3</th>\n",
              "      <td>1102253312</td>\n",
              "      <td>M</td>\n",
              "      <td>HOUSTON</td>\n",
              "      <td>77009</td>\n",
              "      <td>F</td>\n",
              "      <td>1948</td>\n",
              "      <td>NaN</td>\n",
              "      <td>1</td>\n",
              "    </tr>\n",
              "    <tr>\n",
              "      <th>4</th>\n",
              "      <td>1102253349</td>\n",
              "      <td>P</td>\n",
              "      <td>HOUSTON</td>\n",
              "      <td>77009</td>\n",
              "      <td>M</td>\n",
              "      <td>1949</td>\n",
              "      <td>SRD145M</td>\n",
              "      <td>1</td>\n",
              "    </tr>\n",
              "    <tr>\n",
              "      <th>...</th>\n",
              "      <td>...</td>\n",
              "      <td>...</td>\n",
              "      <td>...</td>\n",
              "      <td>...</td>\n",
              "      <td>...</td>\n",
              "      <td>...</td>\n",
              "      <td>...</td>\n",
              "      <td>...</td>\n",
              "    </tr>\n",
              "    <tr>\n",
              "      <th>449995</th>\n",
              "      <td>1119810537</td>\n",
              "      <td>P</td>\n",
              "      <td>HUFFMAN</td>\n",
              "      <td>77336</td>\n",
              "      <td>NaN</td>\n",
              "      <td>1954</td>\n",
              "      <td>SRD127Y</td>\n",
              "      <td>1152</td>\n",
              "    </tr>\n",
              "    <tr>\n",
              "      <th>449996</th>\n",
              "      <td>1119803257</td>\n",
              "      <td>M</td>\n",
              "      <td>HUFFMAN</td>\n",
              "      <td>77336</td>\n",
              "      <td>F</td>\n",
              "      <td>1930</td>\n",
              "      <td>NaN</td>\n",
              "      <td>1152</td>\n",
              "    </tr>\n",
              "    <tr>\n",
              "      <th>449997</th>\n",
              "      <td>1104371338</td>\n",
              "      <td>E</td>\n",
              "      <td>HUFFMAN</td>\n",
              "      <td>77336</td>\n",
              "      <td>M</td>\n",
              "      <td>1961</td>\n",
              "      <td>32071</td>\n",
              "      <td>1152</td>\n",
              "    </tr>\n",
              "    <tr>\n",
              "      <th>449998</th>\n",
              "      <td>1104379152</td>\n",
              "      <td>P</td>\n",
              "      <td>HUFFMAN</td>\n",
              "      <td>77336</td>\n",
              "      <td>F</td>\n",
              "      <td>1964</td>\n",
              "      <td>SRD128V</td>\n",
              "      <td>1152</td>\n",
              "    </tr>\n",
              "    <tr>\n",
              "      <th>449999</th>\n",
              "      <td>1117189334</td>\n",
              "      <td>P</td>\n",
              "      <td>HUFFMAN</td>\n",
              "      <td>77336</td>\n",
              "      <td>F</td>\n",
              "      <td>1968</td>\n",
              "      <td>SRD141U</td>\n",
              "      <td>1152</td>\n",
              "    </tr>\n",
              "  </tbody>\n",
              "</table>\n",
              "<p>450000 rows × 8 columns</p>\n",
              "</div>\n",
              "      <button class=\"colab-df-convert\" onclick=\"convertToInteractive('df-9bfd7f48-5d47-460e-8c52-f4bc32b91e12')\"\n",
              "              title=\"Convert this dataframe to an interactive table.\"\n",
              "              style=\"display:none;\">\n",
              "        \n",
              "  <svg xmlns=\"http://www.w3.org/2000/svg\" height=\"24px\"viewBox=\"0 0 24 24\"\n",
              "       width=\"24px\">\n",
              "    <path d=\"M0 0h24v24H0V0z\" fill=\"none\"/>\n",
              "    <path d=\"M18.56 5.44l.94 2.06.94-2.06 2.06-.94-2.06-.94-.94-2.06-.94 2.06-2.06.94zm-11 1L8.5 8.5l.94-2.06 2.06-.94-2.06-.94L8.5 2.5l-.94 2.06-2.06.94zm10 10l.94 2.06.94-2.06 2.06-.94-2.06-.94-.94-2.06-.94 2.06-2.06.94z\"/><path d=\"M17.41 7.96l-1.37-1.37c-.4-.4-.92-.59-1.43-.59-.52 0-1.04.2-1.43.59L10.3 9.45l-7.72 7.72c-.78.78-.78 2.05 0 2.83L4 21.41c.39.39.9.59 1.41.59.51 0 1.02-.2 1.41-.59l7.78-7.78 2.81-2.81c.8-.78.8-2.07 0-2.86zM5.41 20L4 18.59l7.72-7.72 1.47 1.35L5.41 20z\"/>\n",
              "  </svg>\n",
              "      </button>\n",
              "      \n",
              "  <style>\n",
              "    .colab-df-container {\n",
              "      display:flex;\n",
              "      flex-wrap:wrap;\n",
              "      gap: 12px;\n",
              "    }\n",
              "\n",
              "    .colab-df-convert {\n",
              "      background-color: #E8F0FE;\n",
              "      border: none;\n",
              "      border-radius: 50%;\n",
              "      cursor: pointer;\n",
              "      display: none;\n",
              "      fill: #1967D2;\n",
              "      height: 32px;\n",
              "      padding: 0 0 0 0;\n",
              "      width: 32px;\n",
              "    }\n",
              "\n",
              "    .colab-df-convert:hover {\n",
              "      background-color: #E2EBFA;\n",
              "      box-shadow: 0px 1px 2px rgba(60, 64, 67, 0.3), 0px 1px 3px 1px rgba(60, 64, 67, 0.15);\n",
              "      fill: #174EA6;\n",
              "    }\n",
              "\n",
              "    [theme=dark] .colab-df-convert {\n",
              "      background-color: #3B4455;\n",
              "      fill: #D2E3FC;\n",
              "    }\n",
              "\n",
              "    [theme=dark] .colab-df-convert:hover {\n",
              "      background-color: #434B5C;\n",
              "      box-shadow: 0px 1px 3px 1px rgba(0, 0, 0, 0.15);\n",
              "      filter: drop-shadow(0px 1px 2px rgba(0, 0, 0, 0.3));\n",
              "      fill: #FFFFFF;\n",
              "    }\n",
              "  </style>\n",
              "\n",
              "      <script>\n",
              "        const buttonEl =\n",
              "          document.querySelector('#df-9bfd7f48-5d47-460e-8c52-f4bc32b91e12 button.colab-df-convert');\n",
              "        buttonEl.style.display =\n",
              "          google.colab.kernel.accessAllowed ? 'block' : 'none';\n",
              "\n",
              "        async function convertToInteractive(key) {\n",
              "          const element = document.querySelector('#df-9bfd7f48-5d47-460e-8c52-f4bc32b91e12');\n",
              "          const dataTable =\n",
              "            await google.colab.kernel.invokeFunction('convertToInteractive',\n",
              "                                                     [key], {});\n",
              "          if (!dataTable) return;\n",
              "\n",
              "          const docLinkHtml = 'Like what you see? Visit the ' +\n",
              "            '<a target=\"_blank\" href=https://colab.research.google.com/notebooks/data_table.ipynb>data table notebook</a>'\n",
              "            + ' to learn more about interactive tables.';\n",
              "          element.innerHTML = '';\n",
              "          dataTable['output_type'] = 'display_data';\n",
              "          await google.colab.output.renderOutput(dataTable, element);\n",
              "          const docLink = document.createElement('div');\n",
              "          docLink.innerHTML = docLinkHtml;\n",
              "          element.appendChild(docLink);\n",
              "        }\n",
              "      </script>\n",
              "    </div>\n",
              "  </div>\n",
              "  "
            ]
          },
          "metadata": {},
          "execution_count": 56
        }
      ]
    },
    {
      "cell_type": "code",
      "source": [
        "nov_voters_1.to_csv('nov_voters_1.csv')"
      ],
      "metadata": {
        "id": "aHCOZP0fausA"
      },
      "execution_count": 57,
      "outputs": []
    },
    {
      "cell_type": "code",
      "source": [
        "nov_voters_3 = pd.read_csv('/content/drive/Shareddrives/BakerRipley 2023 Datathon/Nov2022_Voters_3of3.csv')"
      ],
      "metadata": {
        "colab": {
          "base_uri": "https://localhost:8080/"
        },
        "id": "19eRpp4XbbqJ",
        "outputId": "086fafed-81da-4fce-dece-c02100c8e244"
      },
      "execution_count": 60,
      "outputs": [
        {
          "output_type": "stream",
          "name": "stderr",
          "text": [
            "/usr/local/lib/python3.8/dist-packages/IPython/core/interactiveshell.py:3326: DtypeWarning: Columns (6) have mixed types.Specify dtype option on import or set low_memory=False.\n",
            "  exec(code_obj, self.user_global_ns, self.user_ns)\n"
          ]
        }
      ]
    },
    {
      "cell_type": "code",
      "source": [
        "nov_voters_3.drop(nov_voters_3.iloc[:, 9:], inplace=True, axis=1)"
      ],
      "metadata": {
        "id": "sdw5uujqbgvN"
      },
      "execution_count": 61,
      "outputs": []
    },
    {
      "cell_type": "code",
      "source": [
        "nov_voters_3.drop(['DATE_VOTED'], axis=1)"
      ],
      "metadata": {
        "colab": {
          "base_uri": "https://localhost:8080/",
          "height": 423
        },
        "id": "wFa4kA2QboLP",
        "outputId": "1fde25e7-7f61-4feb-9bef-9a51e0496c7b"
      },
      "execution_count": 62,
      "outputs": [
        {
          "output_type": "execute_result",
          "data": {
            "text/plain": [
              "            Voter ID VOTE_TYPE     CITY    ZIP SEX BIRTHYEAR Voting Site  \\\n",
              "0       1.142801e+09         P  HOUSTON  77009   F      1979     SRD140N   \n",
              "1       2.121088e+09         P  HOUSTON  77009   M      1996     SRD147E   \n",
              "2       1.185940e+09         P  HOUSTON  77007   F      1994     SRD147E   \n",
              "3       1.201537e+09         E  HOUSTON  77007   F      1995       92121   \n",
              "4       1.160292e+09         P  HOUSTON  77009   F      1985     SRD145M   \n",
              "...              ...       ...      ...    ...  ..       ...         ...   \n",
              "207396  2.194024e+09         P  CYPRESS  77429   F    1952.0     SRD130L   \n",
              "207397  2.193151e+09         P  TOMBALL  77377   F    2004.0     SRD130T   \n",
              "207398  2.140342e+09         E  TOMBALL  77377   F    1998.0       12028   \n",
              "207399  2.194038e+09         P  HUFFMAN  77336   F    2004.0     SRD128V   \n",
              "207400  2.189545e+09         P  HUFFMAN  77336   F    1964.0     SRD128V   \n",
              "\n",
              "        Voting Precinct  \n",
              "0                     1  \n",
              "1                     1  \n",
              "2                     1  \n",
              "3                     1  \n",
              "4                     1  \n",
              "...                 ...  \n",
              "207396             1151  \n",
              "207397             1151  \n",
              "207398             1151  \n",
              "207399             1152  \n",
              "207400             1152  \n",
              "\n",
              "[207401 rows x 8 columns]"
            ],
            "text/html": [
              "\n",
              "  <div id=\"df-ffaffb08-3058-44f8-ad9c-6b009107835f\">\n",
              "    <div class=\"colab-df-container\">\n",
              "      <div>\n",
              "<style scoped>\n",
              "    .dataframe tbody tr th:only-of-type {\n",
              "        vertical-align: middle;\n",
              "    }\n",
              "\n",
              "    .dataframe tbody tr th {\n",
              "        vertical-align: top;\n",
              "    }\n",
              "\n",
              "    .dataframe thead th {\n",
              "        text-align: right;\n",
              "    }\n",
              "</style>\n",
              "<table border=\"1\" class=\"dataframe\">\n",
              "  <thead>\n",
              "    <tr style=\"text-align: right;\">\n",
              "      <th></th>\n",
              "      <th>Voter ID</th>\n",
              "      <th>VOTE_TYPE</th>\n",
              "      <th>CITY</th>\n",
              "      <th>ZIP</th>\n",
              "      <th>SEX</th>\n",
              "      <th>BIRTHYEAR</th>\n",
              "      <th>Voting Site</th>\n",
              "      <th>Voting Precinct</th>\n",
              "    </tr>\n",
              "  </thead>\n",
              "  <tbody>\n",
              "    <tr>\n",
              "      <th>0</th>\n",
              "      <td>1.142801e+09</td>\n",
              "      <td>P</td>\n",
              "      <td>HOUSTON</td>\n",
              "      <td>77009</td>\n",
              "      <td>F</td>\n",
              "      <td>1979</td>\n",
              "      <td>SRD140N</td>\n",
              "      <td>1</td>\n",
              "    </tr>\n",
              "    <tr>\n",
              "      <th>1</th>\n",
              "      <td>2.121088e+09</td>\n",
              "      <td>P</td>\n",
              "      <td>HOUSTON</td>\n",
              "      <td>77009</td>\n",
              "      <td>M</td>\n",
              "      <td>1996</td>\n",
              "      <td>SRD147E</td>\n",
              "      <td>1</td>\n",
              "    </tr>\n",
              "    <tr>\n",
              "      <th>2</th>\n",
              "      <td>1.185940e+09</td>\n",
              "      <td>P</td>\n",
              "      <td>HOUSTON</td>\n",
              "      <td>77007</td>\n",
              "      <td>F</td>\n",
              "      <td>1994</td>\n",
              "      <td>SRD147E</td>\n",
              "      <td>1</td>\n",
              "    </tr>\n",
              "    <tr>\n",
              "      <th>3</th>\n",
              "      <td>1.201537e+09</td>\n",
              "      <td>E</td>\n",
              "      <td>HOUSTON</td>\n",
              "      <td>77007</td>\n",
              "      <td>F</td>\n",
              "      <td>1995</td>\n",
              "      <td>92121</td>\n",
              "      <td>1</td>\n",
              "    </tr>\n",
              "    <tr>\n",
              "      <th>4</th>\n",
              "      <td>1.160292e+09</td>\n",
              "      <td>P</td>\n",
              "      <td>HOUSTON</td>\n",
              "      <td>77009</td>\n",
              "      <td>F</td>\n",
              "      <td>1985</td>\n",
              "      <td>SRD145M</td>\n",
              "      <td>1</td>\n",
              "    </tr>\n",
              "    <tr>\n",
              "      <th>...</th>\n",
              "      <td>...</td>\n",
              "      <td>...</td>\n",
              "      <td>...</td>\n",
              "      <td>...</td>\n",
              "      <td>...</td>\n",
              "      <td>...</td>\n",
              "      <td>...</td>\n",
              "      <td>...</td>\n",
              "    </tr>\n",
              "    <tr>\n",
              "      <th>207396</th>\n",
              "      <td>2.194024e+09</td>\n",
              "      <td>P</td>\n",
              "      <td>CYPRESS</td>\n",
              "      <td>77429</td>\n",
              "      <td>F</td>\n",
              "      <td>1952.0</td>\n",
              "      <td>SRD130L</td>\n",
              "      <td>1151</td>\n",
              "    </tr>\n",
              "    <tr>\n",
              "      <th>207397</th>\n",
              "      <td>2.193151e+09</td>\n",
              "      <td>P</td>\n",
              "      <td>TOMBALL</td>\n",
              "      <td>77377</td>\n",
              "      <td>F</td>\n",
              "      <td>2004.0</td>\n",
              "      <td>SRD130T</td>\n",
              "      <td>1151</td>\n",
              "    </tr>\n",
              "    <tr>\n",
              "      <th>207398</th>\n",
              "      <td>2.140342e+09</td>\n",
              "      <td>E</td>\n",
              "      <td>TOMBALL</td>\n",
              "      <td>77377</td>\n",
              "      <td>F</td>\n",
              "      <td>1998.0</td>\n",
              "      <td>12028</td>\n",
              "      <td>1151</td>\n",
              "    </tr>\n",
              "    <tr>\n",
              "      <th>207399</th>\n",
              "      <td>2.194038e+09</td>\n",
              "      <td>P</td>\n",
              "      <td>HUFFMAN</td>\n",
              "      <td>77336</td>\n",
              "      <td>F</td>\n",
              "      <td>2004.0</td>\n",
              "      <td>SRD128V</td>\n",
              "      <td>1152</td>\n",
              "    </tr>\n",
              "    <tr>\n",
              "      <th>207400</th>\n",
              "      <td>2.189545e+09</td>\n",
              "      <td>P</td>\n",
              "      <td>HUFFMAN</td>\n",
              "      <td>77336</td>\n",
              "      <td>F</td>\n",
              "      <td>1964.0</td>\n",
              "      <td>SRD128V</td>\n",
              "      <td>1152</td>\n",
              "    </tr>\n",
              "  </tbody>\n",
              "</table>\n",
              "<p>207401 rows × 8 columns</p>\n",
              "</div>\n",
              "      <button class=\"colab-df-convert\" onclick=\"convertToInteractive('df-ffaffb08-3058-44f8-ad9c-6b009107835f')\"\n",
              "              title=\"Convert this dataframe to an interactive table.\"\n",
              "              style=\"display:none;\">\n",
              "        \n",
              "  <svg xmlns=\"http://www.w3.org/2000/svg\" height=\"24px\"viewBox=\"0 0 24 24\"\n",
              "       width=\"24px\">\n",
              "    <path d=\"M0 0h24v24H0V0z\" fill=\"none\"/>\n",
              "    <path d=\"M18.56 5.44l.94 2.06.94-2.06 2.06-.94-2.06-.94-.94-2.06-.94 2.06-2.06.94zm-11 1L8.5 8.5l.94-2.06 2.06-.94-2.06-.94L8.5 2.5l-.94 2.06-2.06.94zm10 10l.94 2.06.94-2.06 2.06-.94-2.06-.94-.94-2.06-.94 2.06-2.06.94z\"/><path d=\"M17.41 7.96l-1.37-1.37c-.4-.4-.92-.59-1.43-.59-.52 0-1.04.2-1.43.59L10.3 9.45l-7.72 7.72c-.78.78-.78 2.05 0 2.83L4 21.41c.39.39.9.59 1.41.59.51 0 1.02-.2 1.41-.59l7.78-7.78 2.81-2.81c.8-.78.8-2.07 0-2.86zM5.41 20L4 18.59l7.72-7.72 1.47 1.35L5.41 20z\"/>\n",
              "  </svg>\n",
              "      </button>\n",
              "      \n",
              "  <style>\n",
              "    .colab-df-container {\n",
              "      display:flex;\n",
              "      flex-wrap:wrap;\n",
              "      gap: 12px;\n",
              "    }\n",
              "\n",
              "    .colab-df-convert {\n",
              "      background-color: #E8F0FE;\n",
              "      border: none;\n",
              "      border-radius: 50%;\n",
              "      cursor: pointer;\n",
              "      display: none;\n",
              "      fill: #1967D2;\n",
              "      height: 32px;\n",
              "      padding: 0 0 0 0;\n",
              "      width: 32px;\n",
              "    }\n",
              "\n",
              "    .colab-df-convert:hover {\n",
              "      background-color: #E2EBFA;\n",
              "      box-shadow: 0px 1px 2px rgba(60, 64, 67, 0.3), 0px 1px 3px 1px rgba(60, 64, 67, 0.15);\n",
              "      fill: #174EA6;\n",
              "    }\n",
              "\n",
              "    [theme=dark] .colab-df-convert {\n",
              "      background-color: #3B4455;\n",
              "      fill: #D2E3FC;\n",
              "    }\n",
              "\n",
              "    [theme=dark] .colab-df-convert:hover {\n",
              "      background-color: #434B5C;\n",
              "      box-shadow: 0px 1px 3px 1px rgba(0, 0, 0, 0.15);\n",
              "      filter: drop-shadow(0px 1px 2px rgba(0, 0, 0, 0.3));\n",
              "      fill: #FFFFFF;\n",
              "    }\n",
              "  </style>\n",
              "\n",
              "      <script>\n",
              "        const buttonEl =\n",
              "          document.querySelector('#df-ffaffb08-3058-44f8-ad9c-6b009107835f button.colab-df-convert');\n",
              "        buttonEl.style.display =\n",
              "          google.colab.kernel.accessAllowed ? 'block' : 'none';\n",
              "\n",
              "        async function convertToInteractive(key) {\n",
              "          const element = document.querySelector('#df-ffaffb08-3058-44f8-ad9c-6b009107835f');\n",
              "          const dataTable =\n",
              "            await google.colab.kernel.invokeFunction('convertToInteractive',\n",
              "                                                     [key], {});\n",
              "          if (!dataTable) return;\n",
              "\n",
              "          const docLinkHtml = 'Like what you see? Visit the ' +\n",
              "            '<a target=\"_blank\" href=https://colab.research.google.com/notebooks/data_table.ipynb>data table notebook</a>'\n",
              "            + ' to learn more about interactive tables.';\n",
              "          element.innerHTML = '';\n",
              "          dataTable['output_type'] = 'display_data';\n",
              "          await google.colab.output.renderOutput(dataTable, element);\n",
              "          const docLink = document.createElement('div');\n",
              "          docLink.innerHTML = docLinkHtml;\n",
              "          element.appendChild(docLink);\n",
              "        }\n",
              "      </script>\n",
              "    </div>\n",
              "  </div>\n",
              "  "
            ]
          },
          "metadata": {},
          "execution_count": 62
        }
      ]
    },
    {
      "cell_type": "code",
      "source": [
        "nov_voters_3.shape"
      ],
      "metadata": {
        "colab": {
          "base_uri": "https://localhost:8080/"
        },
        "id": "sy-lCBQ0b2F2",
        "outputId": "94cf102b-3672-4d9a-e421-40928dd7aac9"
      },
      "execution_count": 63,
      "outputs": [
        {
          "output_type": "execute_result",
          "data": {
            "text/plain": [
              "(207401, 9)"
            ]
          },
          "metadata": {},
          "execution_count": 63
        }
      ]
    },
    {
      "cell_type": "code",
      "source": [
        "nov_voters_3.drop_duplicates"
      ],
      "metadata": {
        "colab": {
          "base_uri": "https://localhost:8080/"
        },
        "id": "PCjyrjcMc0VK",
        "outputId": "90163cbf-baf1-487d-ceb1-777d594993f5"
      },
      "execution_count": 64,
      "outputs": [
        {
          "output_type": "execute_result",
          "data": {
            "text/plain": [
              "<bound method DataFrame.drop_duplicates of             Voter ID VOTE_TYPE     CITY    ZIP SEX       DATE_VOTED BIRTHYEAR  \\\n",
              "0       1.142801e+09         P  HOUSTON  77009   F  10/26/2022 0:00      1979   \n",
              "1       2.121088e+09         P  HOUSTON  77009   M   11/4/2022 0:00      1996   \n",
              "2       1.185940e+09         P  HOUSTON  77007   F  10/26/2022 0:00      1994   \n",
              "3       1.201537e+09         E  HOUSTON  77007   F   11/8/2022 0:00      1995   \n",
              "4       1.160292e+09         P  HOUSTON  77009   F   11/4/2022 0:00      1985   \n",
              "...              ...       ...      ...    ...  ..              ...       ...   \n",
              "207396  2.194024e+09         P  CYPRESS  77429   F   11/3/2022 0:00    1952.0   \n",
              "207397  2.193151e+09         P  TOMBALL  77377   F   11/4/2022 0:00    2004.0   \n",
              "207398  2.140342e+09         E  TOMBALL  77377   F   11/8/2022 0:00    1998.0   \n",
              "207399  2.194038e+09         P  HUFFMAN  77336   F  10/28/2022 0:00    2004.0   \n",
              "207400  2.189545e+09         P  HUFFMAN  77336   F   11/2/2022 0:00    1964.0   \n",
              "\n",
              "       Voting Site  Voting Precinct  \n",
              "0          SRD140N                1  \n",
              "1          SRD147E                1  \n",
              "2          SRD147E                1  \n",
              "3            92121                1  \n",
              "4          SRD145M                1  \n",
              "...            ...              ...  \n",
              "207396     SRD130L             1151  \n",
              "207397     SRD130T             1151  \n",
              "207398       12028             1151  \n",
              "207399     SRD128V             1152  \n",
              "207400     SRD128V             1152  \n",
              "\n",
              "[207401 rows x 9 columns]>"
            ]
          },
          "metadata": {},
          "execution_count": 64
        }
      ]
    },
    {
      "cell_type": "code",
      "source": [
        "nov_voters_3.to_csv('nov_voters_3.csv')"
      ],
      "metadata": {
        "id": "zMauM6m7c5jm"
      },
      "execution_count": 65,
      "outputs": []
    }
  ]
}
