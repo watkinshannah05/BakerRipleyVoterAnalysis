{
 "cells": [
  {
   "cell_type": "code",
   "execution_count": 291,
   "id": "385f1b72",
   "metadata": {},
   "outputs": [],
   "source": [
    "import pandas as pd\n",
    "import matplotlib.pyplot as plt\n",
    "import seaborn as sns\n",
    "import numpy as np\n",
    "from matplotlib.ticker import MultipleLocator\n",
    "pd.set_option('display.float_format', lambda x: f'{x:.0f}')"
   ]
  },
  {
   "cell_type": "code",
   "execution_count": 292,
   "id": "a8e4d9a6",
   "metadata": {},
   "outputs": [],
   "source": [
    "# Dataframes from Raw Data\n",
    "phone_df = pd.read_csv('Text&PhoneBanking_Data.xlsx - Attempts.csv')\n",
    "text_df = pd.read_csv('TextBanking_Efforts.xlsx - Attempts.csv')\n",
    "walking_df = pd.read_csv('BlockWalking_Effort.xlsx - BlockWalkingAttempts.csv')\n",
    "mail_df = pd.read_csv('GOTVMailers_Efforts.xlsx - MailAttempts.csv')\n"
   ]
  },
  {
   "cell_type": "code",
   "execution_count": 293,
   "id": "a257ea27",
   "metadata": {},
   "outputs": [],
   "source": [
    "# Cleaning Data\n",
    "phone_df.dropna(inplace=True)\n",
    "phone_df.drop_duplicates(inplace=True)\n",
    "phone_df = phone_df[['Voter ID','Result']]\n",
    "phone_df = phone_df[phone_df['Voter ID'] != \"--\"]\n",
    "phone_df = phone_df[phone_df['Result'] == \"Talked to Correct Person\"]\n",
    "\n",
    "\n",
    "text_df.dropna(inplace=True)\n",
    "text_df.drop_duplicates(inplace=True)\n",
    "text_df = text_df[['Voter ID','message_direction']]\n",
    "text_df = text_df[text_df['message_direction'] == \"incoming\"]\n",
    "text_df = text_df[text_df['Voter ID'] != \"--\"]\n",
    "\n",
    "walking_df.dropna(inplace=True)\n",
    "walking_df.drop_duplicates(inplace=True)\n",
    "walking_df = walking_df[['Voter ID', 'result of attempt']]\n",
    "# Canvassed are the successful attempts\n",
    "walking_df = walking_df[walking_df['result of attempt'] == \"Canvassed\"]\n",
    "\n",
    "mail_df.drop_duplicates(inplace=True)"
   ]
  },
  {
   "cell_type": "code",
   "execution_count": 294,
   "id": "a379df41",
   "metadata": {},
   "outputs": [
    {
     "data": {
      "text/html": [
       "<div>\n",
       "<style scoped>\n",
       "    .dataframe tbody tr th:only-of-type {\n",
       "        vertical-align: middle;\n",
       "    }\n",
       "\n",
       "    .dataframe tbody tr th {\n",
       "        vertical-align: top;\n",
       "    }\n",
       "\n",
       "    .dataframe thead th {\n",
       "        text-align: right;\n",
       "    }\n",
       "</style>\n",
       "<table border=\"1\" class=\"dataframe\">\n",
       "  <thead>\n",
       "    <tr style=\"text-align: right;\">\n",
       "      <th></th>\n",
       "      <th>Voter ID</th>\n",
       "      <th>Result</th>\n",
       "    </tr>\n",
       "  </thead>\n",
       "  <tbody>\n",
       "    <tr>\n",
       "      <th>46</th>\n",
       "      <td>2172420768</td>\n",
       "      <td>Talked to Correct Person</td>\n",
       "    </tr>\n",
       "    <tr>\n",
       "      <th>67</th>\n",
       "      <td>1119172087</td>\n",
       "      <td>Talked to Correct Person</td>\n",
       "    </tr>\n",
       "    <tr>\n",
       "      <th>76</th>\n",
       "      <td>2172018228</td>\n",
       "      <td>Talked to Correct Person</td>\n",
       "    </tr>\n",
       "    <tr>\n",
       "      <th>134</th>\n",
       "      <td>1186407421</td>\n",
       "      <td>Talked to Correct Person</td>\n",
       "    </tr>\n",
       "    <tr>\n",
       "      <th>160</th>\n",
       "      <td>1180944303</td>\n",
       "      <td>Talked to Correct Person</td>\n",
       "    </tr>\n",
       "    <tr>\n",
       "      <th>...</th>\n",
       "      <td>...</td>\n",
       "      <td>...</td>\n",
       "    </tr>\n",
       "    <tr>\n",
       "      <th>12950</th>\n",
       "      <td>2159936357</td>\n",
       "      <td>Talked to Correct Person</td>\n",
       "    </tr>\n",
       "    <tr>\n",
       "      <th>12963</th>\n",
       "      <td>2192446496</td>\n",
       "      <td>Talked to Correct Person</td>\n",
       "    </tr>\n",
       "    <tr>\n",
       "      <th>12976</th>\n",
       "      <td>2129092335</td>\n",
       "      <td>Talked to Correct Person</td>\n",
       "    </tr>\n",
       "    <tr>\n",
       "      <th>12995</th>\n",
       "      <td>2125231965</td>\n",
       "      <td>Talked to Correct Person</td>\n",
       "    </tr>\n",
       "    <tr>\n",
       "      <th>13014</th>\n",
       "      <td>2122797446</td>\n",
       "      <td>Talked to Correct Person</td>\n",
       "    </tr>\n",
       "  </tbody>\n",
       "</table>\n",
       "<p>225 rows × 2 columns</p>\n",
       "</div>"
      ],
      "text/plain": [
       "         Voter ID                    Result\n",
       "46     2172420768  Talked to Correct Person\n",
       "67     1119172087  Talked to Correct Person\n",
       "76     2172018228  Talked to Correct Person\n",
       "134    1186407421  Talked to Correct Person\n",
       "160    1180944303  Talked to Correct Person\n",
       "...           ...                       ...\n",
       "12950  2159936357  Talked to Correct Person\n",
       "12963  2192446496  Talked to Correct Person\n",
       "12976  2129092335  Talked to Correct Person\n",
       "12995  2125231965  Talked to Correct Person\n",
       "13014  2122797446  Talked to Correct Person\n",
       "\n",
       "[225 rows x 2 columns]"
      ]
     },
     "execution_count": 294,
     "metadata": {},
     "output_type": "execute_result"
    }
   ],
   "source": [
    "# Dataframes of Successful Contacts for each method\n",
    "phone_df"
   ]
  },
  {
   "cell_type": "code",
   "execution_count": 295,
   "id": "0ab11870",
   "metadata": {},
   "outputs": [
    {
     "data": {
      "text/html": [
       "<div>\n",
       "<style scoped>\n",
       "    .dataframe tbody tr th:only-of-type {\n",
       "        vertical-align: middle;\n",
       "    }\n",
       "\n",
       "    .dataframe tbody tr th {\n",
       "        vertical-align: top;\n",
       "    }\n",
       "\n",
       "    .dataframe thead th {\n",
       "        text-align: right;\n",
       "    }\n",
       "</style>\n",
       "<table border=\"1\" class=\"dataframe\">\n",
       "  <thead>\n",
       "    <tr style=\"text-align: right;\">\n",
       "      <th></th>\n",
       "      <th>Voter ID</th>\n",
       "      <th>message_direction</th>\n",
       "    </tr>\n",
       "  </thead>\n",
       "  <tbody>\n",
       "    <tr>\n",
       "      <th>62</th>\n",
       "      <td>2141361716</td>\n",
       "      <td>incoming</td>\n",
       "    </tr>\n",
       "    <tr>\n",
       "      <th>117</th>\n",
       "      <td>1212892020</td>\n",
       "      <td>incoming</td>\n",
       "    </tr>\n",
       "    <tr>\n",
       "      <th>204</th>\n",
       "      <td>1104248838</td>\n",
       "      <td>incoming</td>\n",
       "    </tr>\n",
       "    <tr>\n",
       "      <th>270</th>\n",
       "      <td>2001223992</td>\n",
       "      <td>incoming</td>\n",
       "    </tr>\n",
       "    <tr>\n",
       "      <th>312</th>\n",
       "      <td>2128428129</td>\n",
       "      <td>incoming</td>\n",
       "    </tr>\n",
       "    <tr>\n",
       "      <th>...</th>\n",
       "      <td>...</td>\n",
       "      <td>...</td>\n",
       "    </tr>\n",
       "    <tr>\n",
       "      <th>18649</th>\n",
       "      <td>2187594419</td>\n",
       "      <td>incoming</td>\n",
       "    </tr>\n",
       "    <tr>\n",
       "      <th>18651</th>\n",
       "      <td>2159906912</td>\n",
       "      <td>incoming</td>\n",
       "    </tr>\n",
       "    <tr>\n",
       "      <th>18652</th>\n",
       "      <td>2187100985</td>\n",
       "      <td>incoming</td>\n",
       "    </tr>\n",
       "    <tr>\n",
       "      <th>18653</th>\n",
       "      <td>2159906977</td>\n",
       "      <td>incoming</td>\n",
       "    </tr>\n",
       "    <tr>\n",
       "      <th>18654</th>\n",
       "      <td>2137485609</td>\n",
       "      <td>incoming</td>\n",
       "    </tr>\n",
       "  </tbody>\n",
       "</table>\n",
       "<p>1071 rows × 2 columns</p>\n",
       "</div>"
      ],
      "text/plain": [
       "         Voter ID message_direction\n",
       "62     2141361716          incoming\n",
       "117    1212892020          incoming\n",
       "204    1104248838          incoming\n",
       "270    2001223992          incoming\n",
       "312    2128428129          incoming\n",
       "...           ...               ...\n",
       "18649  2187594419          incoming\n",
       "18651  2159906912          incoming\n",
       "18652  2187100985          incoming\n",
       "18653  2159906977          incoming\n",
       "18654  2137485609          incoming\n",
       "\n",
       "[1071 rows x 2 columns]"
      ]
     },
     "execution_count": 295,
     "metadata": {},
     "output_type": "execute_result"
    }
   ],
   "source": [
    "text_df"
   ]
  },
  {
   "cell_type": "code",
   "execution_count": 296,
   "id": "171243c7",
   "metadata": {},
   "outputs": [
    {
     "data": {
      "text/html": [
       "<div>\n",
       "<style scoped>\n",
       "    .dataframe tbody tr th:only-of-type {\n",
       "        vertical-align: middle;\n",
       "    }\n",
       "\n",
       "    .dataframe tbody tr th {\n",
       "        vertical-align: top;\n",
       "    }\n",
       "\n",
       "    .dataframe thead th {\n",
       "        text-align: right;\n",
       "    }\n",
       "</style>\n",
       "<table border=\"1\" class=\"dataframe\">\n",
       "  <thead>\n",
       "    <tr style=\"text-align: right;\">\n",
       "      <th></th>\n",
       "      <th>Voter ID</th>\n",
       "      <th>result of attempt</th>\n",
       "    </tr>\n",
       "  </thead>\n",
       "  <tbody>\n",
       "    <tr>\n",
       "      <th>14</th>\n",
       "      <td>1190763748</td>\n",
       "      <td>Canvassed</td>\n",
       "    </tr>\n",
       "    <tr>\n",
       "      <th>15</th>\n",
       "      <td>1186729886</td>\n",
       "      <td>Canvassed</td>\n",
       "    </tr>\n",
       "    <tr>\n",
       "      <th>20</th>\n",
       "      <td>2141173305</td>\n",
       "      <td>Canvassed</td>\n",
       "    </tr>\n",
       "    <tr>\n",
       "      <th>48</th>\n",
       "      <td>2146340102</td>\n",
       "      <td>Canvassed</td>\n",
       "    </tr>\n",
       "    <tr>\n",
       "      <th>53</th>\n",
       "      <td>2127479936</td>\n",
       "      <td>Canvassed</td>\n",
       "    </tr>\n",
       "    <tr>\n",
       "      <th>...</th>\n",
       "      <td>...</td>\n",
       "      <td>...</td>\n",
       "    </tr>\n",
       "    <tr>\n",
       "      <th>7060</th>\n",
       "      <td>1119203572</td>\n",
       "      <td>Canvassed</td>\n",
       "    </tr>\n",
       "    <tr>\n",
       "      <th>7070</th>\n",
       "      <td>2143658566</td>\n",
       "      <td>Canvassed</td>\n",
       "    </tr>\n",
       "    <tr>\n",
       "      <th>7071</th>\n",
       "      <td>2163374000</td>\n",
       "      <td>Canvassed</td>\n",
       "    </tr>\n",
       "    <tr>\n",
       "      <th>7077</th>\n",
       "      <td>2161200346</td>\n",
       "      <td>Canvassed</td>\n",
       "    </tr>\n",
       "    <tr>\n",
       "      <th>7081</th>\n",
       "      <td>1116289094</td>\n",
       "      <td>Canvassed</td>\n",
       "    </tr>\n",
       "  </tbody>\n",
       "</table>\n",
       "<p>1139 rows × 2 columns</p>\n",
       "</div>"
      ],
      "text/plain": [
       "       Voter ID result of attempt\n",
       "14   1190763748         Canvassed\n",
       "15   1186729886         Canvassed\n",
       "20   2141173305         Canvassed\n",
       "48   2146340102         Canvassed\n",
       "53   2127479936         Canvassed\n",
       "...         ...               ...\n",
       "7060 1119203572         Canvassed\n",
       "7070 2143658566         Canvassed\n",
       "7071 2163374000         Canvassed\n",
       "7077 2161200346         Canvassed\n",
       "7081 1116289094         Canvassed\n",
       "\n",
       "[1139 rows x 2 columns]"
      ]
     },
     "execution_count": 296,
     "metadata": {},
     "output_type": "execute_result"
    }
   ],
   "source": [
    "walking_df"
   ]
  },
  {
   "cell_type": "code",
   "execution_count": 297,
   "id": "af3cf535",
   "metadata": {},
   "outputs": [
    {
     "name": "stdout",
     "output_type": "stream",
     "text": [
      "phone shape: (225, 2)\n",
      "text shape: (1071, 2)\n",
      "walking shape: (1139, 2)\n"
     ]
    }
   ],
   "source": [
    "print('phone shape:', phone_df.shape)\n",
    "print('text shape:', text_df.shape)\n",
    "print('walking shape:', walking_df.shape)"
   ]
  },
  {
   "cell_type": "code",
   "execution_count": 298,
   "id": "4de02826",
   "metadata": {},
   "outputs": [
    {
     "name": "stdout",
     "output_type": "stream",
     "text": [
      "(450000, 10) (319108, 9) (207401, 10)\n",
      "(976509, 8)\n"
     ]
    },
    {
     "data": {
      "text/html": [
       "<div>\n",
       "<style scoped>\n",
       "    .dataframe tbody tr th:only-of-type {\n",
       "        vertical-align: middle;\n",
       "    }\n",
       "\n",
       "    .dataframe tbody tr th {\n",
       "        vertical-align: top;\n",
       "    }\n",
       "\n",
       "    .dataframe thead th {\n",
       "        text-align: right;\n",
       "    }\n",
       "</style>\n",
       "<table border=\"1\" class=\"dataframe\">\n",
       "  <thead>\n",
       "    <tr style=\"text-align: right;\">\n",
       "      <th></th>\n",
       "      <th>Unnamed: 0</th>\n",
       "      <th>Voter ID</th>\n",
       "      <th>VOTE_TYPE</th>\n",
       "      <th>CITY</th>\n",
       "      <th>ZIP</th>\n",
       "      <th>SEX</th>\n",
       "      <th>BIRTHYEAR</th>\n",
       "      <th>Voting Precinct</th>\n",
       "    </tr>\n",
       "  </thead>\n",
       "  <tbody>\n",
       "    <tr>\n",
       "      <th>0</th>\n",
       "      <td>0</td>\n",
       "      <td>1102134232</td>\n",
       "      <td>P</td>\n",
       "      <td>HOUSTON</td>\n",
       "      <td>77007</td>\n",
       "      <td>M</td>\n",
       "      <td>1952</td>\n",
       "      <td>1</td>\n",
       "    </tr>\n",
       "    <tr>\n",
       "      <th>1</th>\n",
       "      <td>1</td>\n",
       "      <td>1102253308</td>\n",
       "      <td>P</td>\n",
       "      <td>HOUSTON</td>\n",
       "      <td>77009</td>\n",
       "      <td>F</td>\n",
       "      <td>1947</td>\n",
       "      <td>1</td>\n",
       "    </tr>\n",
       "    <tr>\n",
       "      <th>2</th>\n",
       "      <td>2</td>\n",
       "      <td>1102030272</td>\n",
       "      <td>E</td>\n",
       "      <td>HOUSTON</td>\n",
       "      <td>77007</td>\n",
       "      <td>F</td>\n",
       "      <td>1944</td>\n",
       "      <td>1</td>\n",
       "    </tr>\n",
       "    <tr>\n",
       "      <th>3</th>\n",
       "      <td>3</td>\n",
       "      <td>1102253312</td>\n",
       "      <td>M</td>\n",
       "      <td>HOUSTON</td>\n",
       "      <td>77009</td>\n",
       "      <td>F</td>\n",
       "      <td>1948</td>\n",
       "      <td>1</td>\n",
       "    </tr>\n",
       "    <tr>\n",
       "      <th>4</th>\n",
       "      <td>4</td>\n",
       "      <td>1102253349</td>\n",
       "      <td>P</td>\n",
       "      <td>HOUSTON</td>\n",
       "      <td>77009</td>\n",
       "      <td>M</td>\n",
       "      <td>1949</td>\n",
       "      <td>1</td>\n",
       "    </tr>\n",
       "  </tbody>\n",
       "</table>\n",
       "</div>"
      ],
      "text/plain": [
       "   Unnamed: 0   Voter ID VOTE_TYPE     CITY    ZIP SEX BIRTHYEAR  \\\n",
       "0           0 1102134232         P  HOUSTON  77007   M      1952   \n",
       "1           1 1102253308         P  HOUSTON  77009   F      1947   \n",
       "2           2 1102030272         E  HOUSTON  77007   F      1944   \n",
       "3           3 1102253312         M  HOUSTON  77009   F      1948   \n",
       "4           4 1102253349         P  HOUSTON  77009   M      1949   \n",
       "\n",
       "   Voting Precinct  \n",
       "0                1  \n",
       "1                1  \n",
       "2                1  \n",
       "3                1  \n",
       "4                1  "
      ]
     },
     "execution_count": 298,
     "metadata": {},
     "output_type": "execute_result"
    }
   ],
   "source": [
    "voters_1 = pd.read_csv('nov_voters_1.csv', low_memory=False)\n",
    "voters_2 = pd.read_csv('nov_voters_2.csv', low_memory=False)\n",
    "voters_3 = pd.read_csv('nov_voters_3.csv', low_memory=False)\n",
    "\n",
    "print(voters_1.shape, voters_2.shape, voters_3.shape)\n",
    "temp = pd.concat([voters_1, voters_2])\n",
    "voters = pd.concat([temp, voters_3])\n",
    "voters.drop(['DATE_VOTED', 'Voting Site', 'Congressional House District'], inplace=True, axis=1)\n",
    "print(voters.shape)\n",
    "\n",
    "voters.head()"
   ]
  },
  {
   "cell_type": "code",
   "execution_count": 299,
   "id": "d26fe77b",
   "metadata": {},
   "outputs": [
    {
     "name": "stdout",
     "output_type": "stream",
     "text": [
      "0        1102134232\n",
      "1        1102253308\n",
      "2        1102030272\n",
      "3        1102253312\n",
      "4        1102253349\n",
      "            ...    \n",
      "207396   2194023638\n",
      "207397   2193150950\n",
      "207398   2140341941\n",
      "207399   2194037695\n",
      "207400   2189544505\n",
      "Name: Voter ID, Length: 976509, dtype: float64\n",
      "46       2172420768\n",
      "67       1119172087\n",
      "76       2172018228\n",
      "134      1186407421\n",
      "160      1180944303\n",
      "            ...    \n",
      "12950    2159936357\n",
      "12963    2192446496\n",
      "12976    2129092335\n",
      "12995    2125231965\n",
      "13014    2122797446\n",
      "Name: Voter ID, Length: 225, dtype: int64\n",
      "2172420768 [2.17242077e+09]\n",
      "1119172087 [1.11917209e+09]\n",
      "2169459356 [2.16945936e+09]\n",
      "2184698426 [2.18469843e+09]\n",
      "2166232310 [2.16623231e+09]\n",
      "1189640785 [1.18964078e+09]\n",
      "2129478678 [2.12947868e+09]\n",
      "2159863986 [2.15986399e+09]\n",
      "2152046737 [2.15204674e+09]\n",
      "2123599062 [2.12359906e+09]\n",
      "49\n"
     ]
    }
   ],
   "source": [
    "phone = 0\n",
    "phone_df['Voter ID'] = pd.to_numeric(phone_df['Voter ID'])\n",
    "print(voters['Voter ID'])\n",
    "print(phone_df['Voter ID'])\n",
    "\n",
    "for voter in phone_df['Voter ID'].values:\n",
    "    if voter in voters['Voter ID'].values:\n",
    "        if phone < 10:\n",
    "            print(voter, voters['Voter ID'].values[np.where(voters['Voter ID'].values == voter)])\n",
    "        phone += 1\n",
    "print(phone)\n",
    "\n"
   ]
  },
  {
   "cell_type": "code",
   "execution_count": 300,
   "id": "69d301b7",
   "metadata": {},
   "outputs": [
    {
     "name": "stdout",
     "output_type": "stream",
     "text": [
      "[1.10213423e+09 1.10225331e+09 1.10203027e+09 ... 2.14034194e+09\n",
      " 2.19403770e+09 2.18954450e+09]\n",
      "[1190763748 1186729886 2141173305 ... 2163374000 2161200346 1116289094]\n",
      "137\n"
     ]
    }
   ],
   "source": [
    "walk = 0\n",
    "walking_df['Voter ID'] = walking_df['Voter ID'].astype('int64')\n",
    "print(voters['Voter ID'].values)\n",
    "print(walking_df['Voter ID'].values)\n",
    "\n",
    "for voter in walking_df['Voter ID'].values:\n",
    "    if voter in voters['Voter ID'].values:\n",
    "        walk += 1\n",
    "print(walk)\n"
   ]
  },
  {
   "cell_type": "code",
   "execution_count": 301,
   "id": "2661619d",
   "metadata": {},
   "outputs": [
    {
     "name": "stdout",
     "output_type": "stream",
     "text": [
      "62       2141361716\n",
      "117      1212892020\n",
      "204      1104248838\n",
      "270      2001223992\n",
      "312      2128428129\n",
      "            ...    \n",
      "18649    2187594419\n",
      "18651    2159906912\n",
      "18652    2187100985\n",
      "18653    2159906977\n",
      "18654    2137485609\n",
      "Name: Voter ID, Length: 1071, dtype: int64\n",
      "178\n"
     ]
    }
   ],
   "source": [
    "text = 0\n",
    "text_df['Voter ID'] = pd.to_numeric(text_df['Voter ID'])\n",
    "print(text_df['Voter ID'])\n",
    "\n",
    "for voter in text_df['Voter ID'].values:\n",
    "    if voter in voters['Voter ID'].values:\n",
    "        text += 1\n",
    "print(text)"
   ]
  },
  {
   "cell_type": "code",
   "execution_count": 302,
   "id": "319ed397",
   "metadata": {},
   "outputs": [
    {
     "name": "stdout",
     "output_type": "stream",
     "text": [
      "Percentage Participation for Phone: 21.777777777777775\n",
      "Percentage Participation for Text: 16.619981325863677\n",
      "Percentage Participation for Walking: 12.028094820017559\n"
     ]
    }
   ],
   "source": [
    "# voting rate/successful contact\n",
    "phone_rate = 100*(phone/(phone_df.shape[0]))\n",
    "text_rate = 100*(text/(text_df.shape[0]))\n",
    "walk_rate = 100*(walk/(walking_df.shape[0]))\n",
    "print('Percentage Participation for Phone:', phone_rate)\n",
    "print('Percentage Participation for Text:', text_rate)\n",
    "print('Percentage Participation for Walking:', walk_rate)"
   ]
  },
  {
   "cell_type": "code",
   "execution_count": 303,
   "id": "69b01466",
   "metadata": {},
   "outputs": [],
   "source": [
    "data = [[\"Phone\", phone_rate], [\"Text\", text_rate], [\"Block Walking\", walk_rate]]\n",
    "pd.set_option('display.float_format', lambda x: f'{x:.2f}')\n",
    "efficacy = pd.DataFrame(data, columns=[\"Method\", \"Percentage\"])"
   ]
  },
  {
   "cell_type": "code",
   "execution_count": 304,
   "id": "5975cc31",
   "metadata": {
    "scrolled": true
   },
   "outputs": [
    {
     "data": {
      "image/png": "[encoded data removed]",
      "text/plain": [
       "<Figure size 500x500 with 1 Axes>"
      ]
     },
     "metadata": {},
     "output_type": "display_data"
    }
   ],
   "source": [
    "efficacy_plot = sns.catplot(x='Method', y='Percentage', kind='bar',data=efficacy, dodge=False, palette=sns.color_palette(\"hls\", 8))\n",
    "# , aspect=0.5, height=8\n",
    "efficacy_plot.ax.set_ylim(0, 100)\n",
    "for ax in efficacy_plot.axes.flat:\n",
    "    ax.yaxis.set_major_locator(MultipleLocator(5))\n",
    "efficacy_plot.set_axis_labels(\"Method of Contact\", \"Percentage of Voter Participation\")\n",
    "plt.show(efficacy_plot)"
   ]
  },
  {
   "cell_type": "code",
   "execution_count": 305,
   "id": "d14be19a",
   "metadata": {},
   "outputs": [
    {
     "name": "stdout",
     "output_type": "stream",
     "text": [
      "0        1110293474\n",
      "1        1107166208\n",
      "2        2000717608\n",
      "3        2177434872\n",
      "4        2173469771\n",
      "            ...    \n",
      "37423    1111809228\n",
      "37424    1119229211\n",
      "37425    1119237451\n",
      "37426    1176842902\n",
      "37427    1190056887\n",
      "Name: Voter ID, Length: 37428, dtype: int64\n",
      "11211\n"
     ]
    }
   ],
   "source": [
    "mail = 0\n",
    "mail_df['Voter ID'] = pd.to_numeric(mail_df['Voter ID'])\n",
    "print(mail_df['Voter ID'])\n",
    "for voter in mail_df['Voter ID'].values:\n",
    "    if voter in voters['Voter ID'].values:\n",
    "        mail += 1\n",
    "print(mail)"
   ]
  },
  {
   "cell_type": "code",
   "execution_count": 306,
   "id": "fc424606",
   "metadata": {},
   "outputs": [
    {
     "name": "stdout",
     "output_type": "stream",
     "text": [
      "Cost Per Vote - Phone: 18.592653061224492\n",
      "Cost Per Vote - Text: 3.427078651685393\n",
      "Cost Per Vote - Block Walking: 97.34306569343066\n",
      "Cost Per Vote - Mail: 1.1684773882793684\n"
     ]
    }
   ],
   "source": [
    "phone_cost = 0.13\n",
    "per_vote_phone = ((phone_cost * 7008)/phone)\n",
    "text_cost = 0.06\n",
    "per_vote_text = ((text_cost * 10167)/text)\n",
    "walking_cost = 2\n",
    "per_vote_walk = ((walking_cost * 6668)/walk)\n",
    "mail_cost = 0.35\n",
    "per_vote_mail = ((mail_cost * 37428)/mail)\n",
    "print(\"Cost Per Vote - Phone:\", per_vote_phone)\n",
    "print(\"Cost Per Vote - Text:\", per_vote_text)\n",
    "print(\"Cost Per Vote - Block Walking:\", per_vote_walk)\n",
    "print(\"Cost Per Vote - Mail:\", per_vote_mail)"
   ]
  },
  {
   "cell_type": "code",
   "execution_count": 307,
   "id": "375ce784",
   "metadata": {},
   "outputs": [
    {
     "data": {
      "text/html": [
       "<div>\n",
       "<style scoped>\n",
       "    .dataframe tbody tr th:only-of-type {\n",
       "        vertical-align: middle;\n",
       "    }\n",
       "\n",
       "    .dataframe tbody tr th {\n",
       "        vertical-align: top;\n",
       "    }\n",
       "\n",
       "    .dataframe thead th {\n",
       "        text-align: right;\n",
       "    }\n",
       "</style>\n",
       "<table border=\"1\" class=\"dataframe\">\n",
       "  <thead>\n",
       "    <tr style=\"text-align: right;\">\n",
       "      <th></th>\n",
       "      <th>Method</th>\n",
       "      <th>Cost Per Vote</th>\n",
       "    </tr>\n",
       "  </thead>\n",
       "  <tbody>\n",
       "    <tr>\n",
       "      <th>0</th>\n",
       "      <td>Phone</td>\n",
       "      <td>18.59</td>\n",
       "    </tr>\n",
       "    <tr>\n",
       "      <th>1</th>\n",
       "      <td>Text</td>\n",
       "      <td>3.43</td>\n",
       "    </tr>\n",
       "    <tr>\n",
       "      <th>2</th>\n",
       "      <td>Block Walking</td>\n",
       "      <td>97.34</td>\n",
       "    </tr>\n",
       "    <tr>\n",
       "      <th>3</th>\n",
       "      <td>Mail</td>\n",
       "      <td>1.17</td>\n",
       "    </tr>\n",
       "  </tbody>\n",
       "</table>\n",
       "</div>"
      ],
      "text/plain": [
       "          Method  Cost Per Vote\n",
       "0          Phone          18.59\n",
       "1           Text           3.43\n",
       "2  Block Walking          97.34\n",
       "3           Mail           1.17"
      ]
     },
     "execution_count": 307,
     "metadata": {},
     "output_type": "execute_result"
    }
   ],
   "source": [
    "cost_per_vote = pd.DataFrame([[\"Phone\", per_vote_phone], [\"Text\", per_vote_text], [\"Block Walking\", per_vote_walk], [\"Mail\", per_vote_mail]], columns=[\"Method\", \"Cost Per Vote\"])\n",
    "cost_per_vote"
   ]
  },
  {
   "cell_type": "code",
   "execution_count": 308,
   "id": "32badf90",
   "metadata": {},
   "outputs": [
    {
     "data": {
      "image/png": "[encoded data removed]",
      "text/plain": [
       "<Figure size 500x500 with 1 Axes>"
      ]
     },
     "metadata": {},
     "output_type": "display_data"
    }
   ],
   "source": [
    "cost_plot = sns.catplot(x='Method', y='Cost Per Vote', kind='bar',data=cost_per_vote, dodge=False, palette=sns.color_palette(\"hls\", 8))\n",
    "cost_plot.ax.set_ylim(0, 100)\n",
    "cost_plot.set_axis_labels(\"Method of Contact\", \"Cost Per Vote Solicited\")\n",
    "for ax in cost_plot.axes.flat:\n",
    "    ax.yaxis.set_major_locator(MultipleLocator(5))\n",
    "plt.show(cost_plot)"
   ]
  }
 ],
 "metadata": {
  "kernelspec": {
   "display_name": "Python 3 (ipykernel)",
   "language": "python",
   "name": "python3"
  },
  "language_info": {
   "codemirror_mode": {
    "name": "ipython",
    "version": 3
   },
   "file_extension": ".py",
   "mimetype": "text/x-python",
   "name": "python",
   "nbconvert_exporter": "python",
   "pygments_lexer": "ipython3",
   "version": "3.9.13"
  }
 },
 "nbformat": 4,
 "nbformat_minor": 5
}
